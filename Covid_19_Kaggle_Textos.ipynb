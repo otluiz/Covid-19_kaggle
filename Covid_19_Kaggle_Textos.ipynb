{
  "nbformat": 4,
  "nbformat_minor": 0,
  "metadata": {
    "colab": {
      "name": "Covid-19 - Kaggle Textos.ipynb",
      "provenance": [],
      "collapsed_sections": [],
      "include_colab_link": true
    },
    "kernelspec": {
      "name": "python3",
      "display_name": "Python 3"
    },
    "accelerator": "TPU"
  },
  "cells": [
    {
      "cell_type": "markdown",
      "metadata": {
        "id": "view-in-github",
        "colab_type": "text"
      },
      "source": [
        "<a href=\"https://colab.research.google.com/github/otluiz/Covid-19_kaggle/blob/master/Covid_19_Kaggle_Textos.ipynb\" target=\"_parent\"><img src=\"https://colab.research.google.com/assets/colab-badge.svg\" alt=\"Open In Colab\"/></a>"
      ]
    },
    {
      "cell_type": "code",
      "metadata": {
        "id": "-hMn8kIB_fB5",
        "colab_type": "code",
        "colab": {
          "base_uri": "https://localhost:8080/",
          "height": 74
        },
        "outputId": "9e8c9f62-435f-4d04-c9de-65955ad008d7"
      },
      "source": [
        "import numpy as np\n",
        "import zipfile\n",
        "import pandas as pd\n",
        "import glob\n",
        "import json\n",
        "import seaborn as sns\n",
        "import spacy\n",
        "import nltk\n",
        "from IPython.core.display import HTML\n",
        "from matplotlib import pyplot as plt"
      ],
      "execution_count": 1,
      "outputs": [
        {
          "output_type": "stream",
          "text": [
            "/usr/local/lib/python3.6/dist-packages/statsmodels/tools/_testing.py:19: FutureWarning: pandas.util.testing is deprecated. Use the functions in the public API at pandas.testing instead.\n",
            "  import pandas.util.testing as tm\n"
          ],
          "name": "stderr"
        }
      ]
    },
    {
      "cell_type": "code",
      "metadata": {
        "id": "HP3IfLkI_3zM",
        "colab_type": "code",
        "colab": {}
      },
      "source": [
        "!pip install scispacy"
      ],
      "execution_count": null,
      "outputs": []
    },
    {
      "cell_type": "code",
      "metadata": {
        "id": "iqJx2kqhAxNd",
        "colab_type": "code",
        "colab": {}
      },
      "source": [
        "!pip install https://s3-us-west-2.amazonaws.com/ai2-s2-scispacy/releases/v0.2.5/en_core_sci_md-0.2.5.tar.gz"
      ],
      "execution_count": null,
      "outputs": []
    },
    {
      "cell_type": "code",
      "metadata": {
        "id": "KMngdgViBYuB",
        "colab_type": "code",
        "colab": {}
      },
      "source": [
        "import en_core_sci_md"
      ],
      "execution_count": 4,
      "outputs": []
    },
    {
      "cell_type": "code",
      "metadata": {
        "id": "SC0VUiFDBbol",
        "colab_type": "code",
        "colab": {}
      },
      "source": [
        "!python -m spacy download en"
      ],
      "execution_count": null,
      "outputs": []
    },
    {
      "cell_type": "code",
      "metadata": {
        "id": "Zr1EL0itAqWo",
        "colab_type": "code",
        "colab": {}
      },
      "source": [
        "import scispacy"
      ],
      "execution_count": 6,
      "outputs": []
    },
    {
      "cell_type": "code",
      "metadata": {
        "id": "_8_I_BdwA29F",
        "colab_type": "code",
        "colab": {}
      },
      "source": [
        "import zipfile"
      ],
      "execution_count": 7,
      "outputs": []
    },
    {
      "cell_type": "markdown",
      "metadata": {
        "id": "KxwNIFyBCBC1",
        "colab_type": "text"
      },
      "source": [
        "First, you'll need to mount your Drive."
      ]
    },
    {
      "cell_type": "markdown",
      "metadata": {
        "id": "ZAHqiASIJMqR",
        "colab_type": "text"
      },
      "source": [
        "Chama os drives da Google e monta um novo diretório neste 'notebook'. Precisa de uma conexão (URL) onde a Google gera uma 'auth' para entrar no meu Google Drive"
      ]
    },
    {
      "cell_type": "code",
      "metadata": {
        "id": "prUMpfLaB-D7",
        "colab_type": "code",
        "colab": {
          "base_uri": "https://localhost:8080/",
          "height": 55
        },
        "outputId": "217b1be6-b9fd-4d24-e61f-62fae8922c11"
      },
      "source": [
        "from google.colab import drive\n",
        "drive.mount('/content/gdrive')"
      ],
      "execution_count": 8,
      "outputs": [
        {
          "output_type": "stream",
          "text": [
            "Drive already mounted at /content/gdrive; to attempt to forcibly remount, call drive.mount(\"/content/gdrive\", force_remount=True).\n"
          ],
          "name": "stdout"
        }
      ]
    },
    {
      "cell_type": "markdown",
      "metadata": {
        "id": "4SkYZjxaIl_9",
        "colab_type": "text"
      },
      "source": [
        "Conecta ao diretório do meu Google Drive onde estão os dados da Covid-19 que está compactado.\n",
        "Será descompactado (unzip) no meu Google Drive\n"
      ]
    },
    {
      "cell_type": "code",
      "metadata": {
        "id": "bC9VFHaC9PQA",
        "colab_type": "code",
        "colab": {}
      },
      "source": [
        "path = '/content/gdrive/My Drive/CORD-19-research-challenge.zip'\n",
        "from zipfile import *\n",
        "zip_object = zipfile.ZipFile(file=path, mode='r')\n",
        "zip_object.extractall('./')\n",
        "zip_object.close()"
      ],
      "execution_count": 9,
      "outputs": []
    },
    {
      "cell_type": "markdown",
      "metadata": {
        "id": "0Mz-iWVcIbbo",
        "colab_type": "text"
      },
      "source": [
        "Criação do DataFrame com os textos dos artigos\n"
      ]
    },
    {
      "cell_type": "markdown",
      "metadata": {
        "id": "pvQ11GtKLHwG",
        "colab_type": "text"
      },
      "source": [
        "DataFrame no formato JSON"
      ]
    },
    {
      "cell_type": "code",
      "metadata": {
        "id": "8uA_oEib9F0G",
        "colab_type": "code",
        "colab": {}
      },
      "source": [
        "features_corona = {'paper_id': [],\n",
        "                   'title' : [],\n",
        "                   'abstract' : [],\n",
        "                   'text' : []}"
      ],
      "execution_count": 10,
      "outputs": []
    },
    {
      "cell_type": "markdown",
      "metadata": {
        "id": "UwDHhcF5LzZC",
        "colab_type": "text"
      },
      "source": [
        "Testando o tipo \"features_corona\"\n"
      ]
    },
    {
      "cell_type": "code",
      "metadata": {
        "id": "74qx4Z-NL861",
        "colab_type": "code",
        "colab": {
          "base_uri": "https://localhost:8080/",
          "height": 35
        },
        "outputId": "ab99287c-5b1b-490e-9921-0bbaee977ab9"
      },
      "source": [
        "type (features_corona)"
      ],
      "execution_count": 11,
      "outputs": [
        {
          "output_type": "execute_result",
          "data": {
            "text/plain": [
              "dict"
            ]
          },
          "metadata": {
            "tags": []
          },
          "execution_count": 11
        }
      ]
    },
    {
      "cell_type": "markdown",
      "metadata": {
        "id": "3ZuBhy04MKpk",
        "colab_type": "text"
      },
      "source": [
        "Transformar o tipo dict em dataframe\n"
      ]
    },
    {
      "cell_type": "code",
      "metadata": {
        "id": "iMPS1eYxMlyr",
        "colab_type": "code",
        "colab": {}
      },
      "source": [
        "corona_df = pd.DataFrame.from_dict(features_corona)"
      ],
      "execution_count": 12,
      "outputs": []
    },
    {
      "cell_type": "markdown",
      "metadata": {
        "id": "QQLm19DkOkOT",
        "colab_type": "text"
      },
      "source": [
        "Verificando o novo tipo"
      ]
    },
    {
      "cell_type": "code",
      "metadata": {
        "id": "SRFbBJRKOhaf",
        "colab_type": "code",
        "colab": {
          "base_uri": "https://localhost:8080/",
          "height": 35
        },
        "outputId": "e5b068d7-875d-41ba-fdb3-e23c7b7bc74c"
      },
      "source": [
        "type (corona_df)"
      ],
      "execution_count": 13,
      "outputs": [
        {
          "output_type": "execute_result",
          "data": {
            "text/plain": [
              "pandas.core.frame.DataFrame"
            ]
          },
          "metadata": {
            "tags": []
          },
          "execution_count": 13
        }
      ]
    },
    {
      "cell_type": "markdown",
      "metadata": {
        "id": "ADWfkbmUOwxb",
        "colab_type": "text"
      },
      "source": [
        "Pandas é o \"default for Machine Learning in Python projects\"\n"
      ]
    },
    {
      "cell_type": "code",
      "metadata": {
        "id": "43bgvaq6PgDI",
        "colab_type": "code",
        "colab": {
          "base_uri": "https://localhost:8080/",
          "height": 49
        },
        "outputId": "ea54857f-5b7d-404a-fc75-3a255e741650"
      },
      "source": [
        "corona_df.head()"
      ],
      "execution_count": 14,
      "outputs": [
        {
          "output_type": "execute_result",
          "data": {
            "text/html": [
              "<div>\n",
              "<style scoped>\n",
              "    .dataframe tbody tr th:only-of-type {\n",
              "        vertical-align: middle;\n",
              "    }\n",
              "\n",
              "    .dataframe tbody tr th {\n",
              "        vertical-align: top;\n",
              "    }\n",
              "\n",
              "    .dataframe thead th {\n",
              "        text-align: right;\n",
              "    }\n",
              "</style>\n",
              "<table border=\"1\" class=\"dataframe\">\n",
              "  <thead>\n",
              "    <tr style=\"text-align: right;\">\n",
              "      <th></th>\n",
              "      <th>paper_id</th>\n",
              "      <th>title</th>\n",
              "      <th>abstract</th>\n",
              "      <th>text</th>\n",
              "    </tr>\n",
              "  </thead>\n",
              "  <tbody>\n",
              "  </tbody>\n",
              "</table>\n",
              "</div>"
            ],
            "text/plain": [
              "Empty DataFrame\n",
              "Columns: [paper_id, title, abstract, text]\n",
              "Index: []"
            ]
          },
          "metadata": {
            "tags": []
          },
          "execution_count": 14
        }
      ]
    },
    {
      "cell_type": "markdown",
      "metadata": {
        "id": "fbK2PoyLPoMN",
        "colab_type": "text"
      },
      "source": [
        "Ler os arquivos JSON a partir da raiz '/' para popular meu dataframe\n"
      ]
    },
    {
      "cell_type": "code",
      "metadata": {
        "id": "aqsYMynlPm_d",
        "colab_type": "code",
        "colab": {}
      },
      "source": [
        "json_filenames = glob.glob(f'{\"./\"}//**/*.json', recursive = True)"
      ],
      "execution_count": 15,
      "outputs": []
    },
    {
      "cell_type": "code",
      "metadata": {
        "id": "qqYe_QtTUG3e",
        "colab_type": "code",
        "colab": {}
      },
      "source": [
        "print(json_filenames)"
      ],
      "execution_count": null,
      "outputs": []
    },
    {
      "cell_type": "code",
      "metadata": {
        "id": "1o08_XtnUifm",
        "colab_type": "code",
        "colab": {
          "base_uri": "https://localhost:8080/",
          "height": 35
        },
        "outputId": "2c5873dc-e22b-450f-d2b6-36ea5fe9edaa"
      },
      "source": [
        "len(json_filenames)"
      ],
      "execution_count": 17,
      "outputs": [
        {
          "output_type": "execute_result",
          "data": {
            "text/plain": [
              "29316"
            ]
          },
          "metadata": {
            "tags": []
          },
          "execution_count": 17
        }
      ]
    },
    {
      "cell_type": "markdown",
      "metadata": {
        "id": "BeNmqDb64jyu",
        "colab_type": "text"
      },
      "source": [
        "Cada arquivo JSON seráá uma linha do dataframe, populando assim o corona_df\n"
      ]
    },
    {
      "cell_type": "code",
      "metadata": {
        "id": "LZqlI2yH5SdH",
        "colab_type": "code",
        "colab": {}
      },
      "source": [
        "def retorna_corona_df(json_filenames, df):\n",
        "  for file_name in json_filenames:\n",
        "    linha_dados = {'paper_id': None, 'title': None, 'abstract': None, 'text': None}\n",
        "\n",
        "    with open(file_name) as json_data:\n",
        "      if file_name == './sample_data/anscombe.json': # ignora os anscombe.json\n",
        "        continue\n",
        "      #if file_name == './MeuMestrado/ProjetoGeolocalização/node_modules/gulp/node_modules/tildify/*.json': \n",
        "      #  continue\n",
        "\n",
        "      data = json.load(json_data)\n",
        "\n",
        "      ## .strip() : ' 345 ' -> '345' retira os espaços\n",
        "      linha_dados['paper_id'] = data['paper_id'].strip()\n",
        "      linha_dados['title'] = data['metadata']['title'].strip()\n",
        "\n",
        "      abstract_list = [abstract['text'] for abstract in data['abstract']]\n",
        "      abstract = '\\n'.join(abstract_list)\n",
        "      linha_dados['abstract'] = abstract.strip()\n",
        "\n",
        "      text_list = [text['text'] for text in data['body_text']]\n",
        "      text = '\\n'.join(text_list)\n",
        "      linha_dados['text'] = text.strip()\n",
        "\n",
        "      df = df.append(linha_dados, ignore_index = True)\n",
        "  return df"
      ],
      "execution_count": 18,
      "outputs": []
    },
    {
      "cell_type": "code",
      "metadata": {
        "id": "EuGChutx9IKJ",
        "colab_type": "code",
        "colab": {}
      },
      "source": [
        "corona_df = retorna_corona_df(json_filenames, corona_df)"
      ],
      "execution_count": 20,
      "outputs": []
    },
    {
      "cell_type": "code",
      "metadata": {
        "id": "a-7gYTIRfmmD",
        "colab_type": "code",
        "colab": {}
      },
      "source": [
        "corona_df2 = corona_df[['paper_id', 'title', 'abstract', 'text']]"
      ],
      "execution_count": 21,
      "outputs": []
    },
    {
      "cell_type": "code",
      "metadata": {
        "id": "dXtPL3LzbBYJ",
        "colab_type": "code",
        "colab": {}
      },
      "source": [
        "#corona_df.drop(corona_df.tail(29315).index,inplace=True) # remove as ultimas linhas"
      ],
      "execution_count": 29,
      "outputs": []
    },
    {
      "cell_type": "code",
      "metadata": {
        "id": "e_oRTN7Rbzsc",
        "colab_type": "code",
        "colab": {}
      },
      "source": [
        "#corona_df.drop(corona_df.head(2).index,inplace=True) # drop first 2 rows"
      ],
      "execution_count": null,
      "outputs": []
    },
    {
      "cell_type": "code",
      "metadata": {
        "id": "4Px975LyMOoq",
        "colab_type": "code",
        "colab": {
          "base_uri": "https://localhost:8080/",
          "height": 35
        },
        "outputId": "83684fc3-2a90-4147-d850-cbbcb2c9a77e"
      },
      "source": [
        "corona_df.shape"
      ],
      "execution_count": 35,
      "outputs": [
        {
          "output_type": "execute_result",
          "data": {
            "text/plain": [
              "(29315, 4)"
            ]
          },
          "metadata": {
            "tags": []
          },
          "execution_count": 35
        }
      ]
    },
    {
      "cell_type": "code",
      "metadata": {
        "id": "1Q3Ei9z6gb_o",
        "colab_type": "code",
        "colab": {
          "base_uri": "https://localhost:8080/",
          "height": 35
        },
        "outputId": "96989014-e73c-4a7f-efd6-6e5845c4289a"
      },
      "source": [
        "corona_df2.shape"
      ],
      "execution_count": 36,
      "outputs": [
        {
          "output_type": "execute_result",
          "data": {
            "text/plain": [
              "(58630, 4)"
            ]
          },
          "metadata": {
            "tags": []
          },
          "execution_count": 36
        }
      ]
    },
    {
      "cell_type": "code",
      "metadata": {
        "id": "Q8wEcEru5Caf",
        "colab_type": "code",
        "colab": {}
      },
      "source": [
        "corona_df.head()"
      ],
      "execution_count": null,
      "outputs": []
    },
    {
      "cell_type": "code",
      "metadata": {
        "id": "uAK2a2Vp5MDr",
        "colab_type": "code",
        "colab": {
          "base_uri": "https://localhost:8080/",
          "height": 35
        },
        "outputId": "5db27e5f-8658-462a-fa28-a6340af190a8"
      },
      "source": [
        "corona_df['title'][29314]"
      ],
      "execution_count": 32,
      "outputs": [
        {
          "output_type": "execute_result",
          "data": {
            "application/vnd.google.colaboratory.intrinsic+json": {
              "type": "string"
            },
            "text/plain": [
              "'Meeting critical challenges and striving for urban sustainability in China'"
            ]
          },
          "metadata": {
            "tags": []
          },
          "execution_count": 32
        }
      ]
    },
    {
      "cell_type": "code",
      "metadata": {
        "id": "HuR_-qr4eT_O",
        "colab_type": "code",
        "colab": {}
      },
      "source": [
        "corona_df.tail()"
      ],
      "execution_count": null,
      "outputs": []
    },
    {
      "cell_type": "code",
      "metadata": {
        "id": "946lWuD_dzOw",
        "colab_type": "code",
        "colab": {}
      },
      "source": [
        "corona_df['text'][2]"
      ],
      "execution_count": null,
      "outputs": []
    },
    {
      "cell_type": "code",
      "metadata": {
        "id": "n9zGSqjWitbG",
        "colab_type": "code",
        "colab": {
          "base_uri": "https://localhost:8080/",
          "height": 35
        },
        "outputId": "b1931211-d117-471c-a15c-78d3e117e6ff"
      },
      "source": [
        "len(corona_df['text'][2])"
      ],
      "execution_count": 34,
      "outputs": [
        {
          "output_type": "execute_result",
          "data": {
            "text/plain": [
              "8584"
            ]
          },
          "metadata": {
            "tags": []
          },
          "execution_count": 34
        }
      ]
    },
    {
      "cell_type": "markdown",
      "metadata": {
        "id": "JKFvomXzjP2Q",
        "colab_type": "text"
      },
      "source": [
        "**PERPROCESSAMENTO DE TEXTOS DOS ARTIGOS**\n",
        "<PROCURANDO POR DADOS FALTANTES>"
      ]
    },
    {
      "cell_type": "code",
      "metadata": {
        "id": "0qNTsUi4kBHI",
        "colab_type": "code",
        "colab": {
          "base_uri": "https://localhost:8080/",
          "height": 270
        },
        "outputId": "5b4bbf8d-56cb-4585-b6db-21ccf92dc3fc"
      },
      "source": [
        "sns.heatmap(corona_df.isnull()); ## procurando pelo mapa de calor"
      ],
      "execution_count": 37,
      "outputs": [
        {
          "output_type": "display_data",
          "data": {
            "image/png": "[encoded data removed]",
            "text/plain": [
              "<Figure size 432x288 with 2 Axes>"
            ]
          },
          "metadata": {
            "tags": [],
            "needs_background": "light"
          }
        }
      ]
    },
    {
      "cell_type": "code",
      "metadata": {
        "id": "avSheKFTlHAB",
        "colab_type": "code",
        "colab": {
          "base_uri": "https://localhost:8080/",
          "height": 35
        },
        "outputId": "472a8098-6576-4b3d-e728-1ec906cdcbb3"
      },
      "source": [
        "len(corona_df[corona_df['paper_id'] == '']) # procurando por espaços vazios"
      ],
      "execution_count": 38,
      "outputs": [
        {
          "output_type": "execute_result",
          "data": {
            "text/plain": [
              "0"
            ]
          },
          "metadata": {
            "tags": []
          },
          "execution_count": 38
        }
      ]
    },
    {
      "cell_type": "code",
      "metadata": {
        "id": "d9U3fNPwlWdP",
        "colab_type": "code",
        "colab": {
          "base_uri": "https://localhost:8080/",
          "height": 35
        },
        "outputId": "c7ec378e-3014-45b8-ad4c-5171438266b0"
      },
      "source": [
        "len(corona_df[corona_df['title'] == '']) # procurando por espaços vazios nos tíítulos"
      ],
      "execution_count": 39,
      "outputs": [
        {
          "output_type": "execute_result",
          "data": {
            "text/plain": [
              "3583"
            ]
          },
          "metadata": {
            "tags": []
          },
          "execution_count": 39
        }
      ]
    },
    {
      "cell_type": "code",
      "metadata": {
        "id": "Qb4SszdOlkqn",
        "colab_type": "code",
        "colab": {}
      },
      "source": [
        "len(corona_df[corona_df['abstract'] == '']) # procurando por espaços vazios nos abstracts"
      ],
      "execution_count": null,
      "outputs": []
    },
    {
      "cell_type": "code",
      "metadata": {
        "id": "zzQRIZLklskU",
        "colab_type": "code",
        "colab": {
          "base_uri": "https://localhost:8080/",
          "height": 35
        },
        "outputId": "4d76ea10-d48d-44a4-fa63-1be38214a800"
      },
      "source": [
        "len(corona_df[corona_df['text'] == '']) # procurando por espaços vazios nos textos"
      ],
      "execution_count": 40,
      "outputs": [
        {
          "output_type": "execute_result",
          "data": {
            "text/plain": [
              "0"
            ]
          },
          "metadata": {
            "tags": []
          },
          "execution_count": 40
        }
      ]
    },
    {
      "cell_type": "code",
      "metadata": {
        "id": "KpJJEEL2my02",
        "colab_type": "code",
        "colab": {}
      },
      "source": [
        "#corona_df = corona_df2  ## reafzendo tudo porra!!"
      ],
      "execution_count": null,
      "outputs": []
    },
    {
      "cell_type": "code",
      "metadata": {
        "id": "DhJo_65rl4xM",
        "colab_type": "code",
        "colab": {}
      },
      "source": [
        "corona_df = corona_df[corona_df['title'] != ''] ## apagando os artigos sem tíítulos"
      ],
      "execution_count": 41,
      "outputs": []
    },
    {
      "cell_type": "code",
      "metadata": {
        "id": "aH8Qi-1kmUEO",
        "colab_type": "code",
        "colab": {}
      },
      "source": [
        "corona_df = corona_df[corona_df['abstract'] != ''] ## apagando os artigos sem abstract"
      ],
      "execution_count": 42,
      "outputs": []
    },
    {
      "cell_type": "code",
      "metadata": {
        "id": "f4sP7V24mbMM",
        "colab_type": "code",
        "colab": {
          "base_uri": "https://localhost:8080/",
          "height": 35
        },
        "outputId": "9f913bfb-225e-4ac3-980e-d5e8e342f682"
      },
      "source": [
        "corona_df.shape ## o que sobrou?"
      ],
      "execution_count": 43,
      "outputs": [
        {
          "output_type": "execute_result",
          "data": {
            "text/plain": [
              "(20343, 4)"
            ]
          },
          "metadata": {
            "tags": []
          },
          "execution_count": 43
        }
      ]
    },
    {
      "cell_type": "markdown",
      "metadata": {
        "id": "PxNzJd_An8h9",
        "colab_type": "text"
      },
      "source": [
        "**REMOVENDO ARTIGOS DUPLICADOS**"
      ]
    },
    {
      "cell_type": "code",
      "metadata": {
        "id": "ZmfKkpEZn7zr",
        "colab_type": "code",
        "colab": {}
      },
      "source": [
        "corona_df.drop_duplicates(['abstract', 'text', 'title'], inplace=True)"
      ],
      "execution_count": 44,
      "outputs": []
    },
    {
      "cell_type": "code",
      "metadata": {
        "id": "ncK0djuIoacK",
        "colab_type": "code",
        "colab": {
          "base_uri": "https://localhost:8080/",
          "height": 35
        },
        "outputId": "ec608f28-b4b8-4ad5-e8c1-63ed8dc2be8a"
      },
      "source": [
        "corona_df.shape  ## vendo quem mandou 2 ou mais vezes o mesmo artigo - ahaha"
      ],
      "execution_count": 45,
      "outputs": [
        {
          "output_type": "execute_result",
          "data": {
            "text/plain": [
              "(20211, 4)"
            ]
          },
          "metadata": {
            "tags": []
          },
          "execution_count": 45
        }
      ]
    },
    {
      "cell_type": "markdown",
      "metadata": {
        "id": "vLXNZbbDqknD",
        "colab_type": "text"
      },
      "source": [
        "**BASE DE DADOS DE AMOSTRA**\n"
      ]
    },
    {
      "cell_type": "code",
      "metadata": {
        "id": "pYdixkoLqswc",
        "colab_type": "code",
        "colab": {}
      },
      "source": [
        "corona_df = corona_df.sample(n = 500, random_state=1)"
      ],
      "execution_count": 46,
      "outputs": []
    },
    {
      "cell_type": "code",
      "metadata": {
        "id": "BEx2uan6q75n",
        "colab_type": "code",
        "colab": {
          "base_uri": "https://localhost:8080/",
          "height": 35
        },
        "outputId": "a2d45eaa-fb74-46ae-a86c-ae37c6bab5d0"
      },
      "source": [
        "corona_df.shape"
      ],
      "execution_count": 47,
      "outputs": [
        {
          "output_type": "execute_result",
          "data": {
            "text/plain": [
              "(500, 4)"
            ]
          },
          "metadata": {
            "tags": []
          },
          "execution_count": 47
        }
      ]
    },
    {
      "cell_type": "code",
      "metadata": {
        "id": "_kprMMp0rAau",
        "colab_type": "code",
        "colab": {}
      },
      "source": [
        "corona_df.head()"
      ],
      "execution_count": null,
      "outputs": []
    },
    {
      "cell_type": "code",
      "metadata": {
        "id": "iHYk88WIrK6V",
        "colab_type": "code",
        "colab": {}
      },
      "source": [
        "corona_df.tail()"
      ],
      "execution_count": null,
      "outputs": []
    },
    {
      "cell_type": "code",
      "metadata": {
        "id": "AAMrF_p157i4",
        "colab_type": "code",
        "colab": {}
      },
      "source": [
        "## Visual Text analisys\n",
        "sample_text = corona_df['text'][22940]\n",
        "sample_text"
      ],
      "execution_count": null,
      "outputs": []
    },
    {
      "cell_type": "code",
      "metadata": {
        "id": "Ct9zrMZ0-PYX",
        "colab_type": "code",
        "colab": {}
      },
      "source": [
        "#import spacy\n",
        "#!pip install scispacy\n",
        "#!python -m spacy download en\n",
        "#!conda install -c conda-forge spacy\n",
        "#!pip install https://s3-us-west-2.amazonaws.com/ai2-s2-scispacy/releases/v0.2.5/en_core_sci_md-0.2.5.tar.gz\n",
        "#!pip install https://s3-us-west-2.amazonaws.com/ai2-s2-scispacy/releases/v0.2.5/en_core_sci_sm-0.2.5.tar.gz"
      ],
      "execution_count": null,
      "outputs": []
    },
    {
      "cell_type": "code",
      "metadata": {
        "id": "kgB_fMAubRjJ",
        "colab_type": "code",
        "colab": {}
      },
      "source": [
        "#!pip uninstall en_core_web_md\n",
        "#!pip uninstall en_core_sci_sm\n",
        "#!pip uninstall en_core_sci_md\n",
        "#!python -m spacy download en_core_web_md\n",
        "#!python -m spacy download en_core_sci_md\n",
        "#!python -m spacy link en_core_web_md en --force\n",
        "!python -m spacy link en_core_sci_md en --force"
      ],
      "execution_count": null,
      "outputs": []
    },
    {
      "cell_type": "markdown",
      "metadata": {
        "id": "b9gphVNR6-jE",
        "colab_type": "text"
      },
      "source": [
        "**FUNÇÃO PARA PREPROCESSAMENTO**\n"
      ]
    },
    {
      "cell_type": "code",
      "metadata": {
        "id": "dHJtPzdeoCfu",
        "colab_type": "code",
        "colab": {}
      },
      "source": [
        "##ESABILITANDO 'PARSER' -> DA ANÁLISE DE PALAVRAS; RECONHECIMENTO DE ENITADADES -> 'NER'\n",
        "#import en_core_sci_md\n",
        "#import spacy\n",
        "#nlp = spacy.load('en_core_sci_sm')\n",
        "nlp = en_core_sci_md.load(disable=['tagger', 'parser', 'ner'])\n",
        "nlp.max_length = 2000000"
      ],
      "execution_count": 52,
      "outputs": []
    },
    {
      "cell_type": "code",
      "metadata": {
        "id": "R4mL92yMPeWj",
        "colab_type": "code",
        "colab": {
          "base_uri": "https://localhost:8080/",
          "height": 55
        },
        "outputId": "d544e8e0-fda5-44bd-fe0a-343248811834"
      },
      "source": [
        "print(spacy.lang.en.stop_words.STOP_WORDS)"
      ],
      "execution_count": 53,
      "outputs": [
        {
          "output_type": "stream",
          "text": [
            "{'keep', 'itself', 'few', 'were', 'whose', 'regarding', 'which', 'via', \"n't\", 'else', 'what', 'would', 'per', 'some', 'seemed', 'after', 'thereupon', 'so', '’ll', 'enough', 'down', 'am', 'before', 'see', 'back', 'for', 'front', 'seeming', 'had', 'since', 'used', 'about', 'indeed', 'whoever', 'nobody', 'another', 'of', 'must', 'again', 'with', '‘s', 'as', 'between', 'could', 'amount', 'much', 'yourselves', 'a', 'ours', 'anyhow', 'everyone', 'hereafter', 'through', 'go', 'these', 'or', 'thus', 'becomes', 'put', 'beforehand', 'should', 'was', 'hereby', '‘d', 'fifty', 'is', 'none', 'serious', 'nowhere', 'against', 'at', '’s', 'still', 'noone', 'whereupon', 'wherever', 'than', 'never', 'formerly', 'often', 'other', 'bottom', 'always', 'across', 'namely', 'meanwhile', 'whom', 'however', '‘ve', 'within', 'whole', 'n‘t', 'neither', 'such', 'until', 'just', 'anyway', 'someone', 'very', 'whether', 'all', 'empty', 'further', 'being', 'one', 'next', 'thru', 'whereas', 'became', 'whereby', 'themselves', \"'ll\", 'quite', 'six', 'below', 'up', 'her', 'unless', 'when', 'and', 'under', 'take', 'while', 'here', 'this', 'moreover', 'every', 'its', 'their', 'nine', 'me', 'did', 'first', 'full', 'whatever', 'above', 'hereupon', 'due', 'side', 'anyone', 'but', 'myself', \"'m\", 'toward', 'almost', 'twenty', 'do', 'each', 'once', 'both', 'forty', 'from', 'four', 'nor', 'thence', 'former', 'an', \"'ve\", 'more', 'somewhere', 'therein', \"'d\", 'your', 'along', 'make', 'my', 'even', 'him', 'whenever', 'either', 'been', 'most', 'thereafter', 'too', 'eight', 'has', 'hers', 'anything', 'them', 'yourself', 'elsewhere', 'fifteen', 'n’t', 'upon', 'might', 'whence', 'becoming', 'together', 'into', 'others', 'be', 'may', 'she', 'throughout', 'also', 'done', 'although', 'whither', \"'re\", 'call', 'yet', 'several', 'mine', 'how', 'herself', 'if', 'over', 'top', 'the', 'whereafter', 'afterwards', 'ten', 'without', 'around', 'nevertheless', 'onto', 'part', 'therefore', 'two', 'his', 'we', 'five', 'will', 'himself', '‘re', 'behind', 'please', 'now', 'same', 'alone', 'nothing', 'to', 'why', '‘m', 'that', 'have', 'using', 'various', 'sometime', 'ever', 'off', 'mostly', 'herein', 'those', 'towards', 'twelve', 'our', 'yours', 'no', 'wherein', 'give', 'are', 'you', 'on', 'somehow', 'sixty', 'because', 'already', \"'s\", '‘ll', 'among', 'besides', 'amongst', 'made', 'anywhere', '’d', 'something', 'last', '’re', '’ve', 'though', 'then', 'many', 'in', 'get', 'can', 'everywhere', 'everything', 'least', 'not', 'latter', 'otherwise', 'cannot', 'become', 'ourselves', 'any', 'where', 'show', 'ca', 'third', 'hence', 'hundred', 'rather', 'out', 'beyond', 'us', 'seems', 'who', '’m', 'eleven', 'move', 're', 'beside', 'perhaps', 'thereby', 'it', 'less', 'only', 'really', 'they', 'three', 'sometimes', 'doing', 'name', 'well', 'during', 'he', 'say', 'there', 'own', 'latterly', 'seem', 'i', 'except', 'does', 'by'}\n"
          ],
          "name": "stdout"
        }
      ]
    },
    {
      "cell_type": "code",
      "metadata": {
        "id": "b_CDeVfYTods",
        "colab_type": "code",
        "colab": {}
      },
      "source": [
        "sample_text"
      ],
      "execution_count": null,
      "outputs": []
    },
    {
      "cell_type": "code",
      "metadata": {
        "id": "RPdYkcZSP6BF",
        "colab_type": "code",
        "colab": {}
      },
      "source": [
        "\n",
        "def spacy_tokenizer(sentence):\n",
        "  sentence = sentence.lower() ## coloca tudo em minúsculo\n",
        "  list = []   ## nlp(sentence)\n",
        "  list = [word.lema_ for word in nlp(sentence) if (word.is_stop or\n",
        "                                              word.like_num or\n",
        "                                              word.is_punct or\n",
        "                                              word.is_space)]\n",
        "  list = ' '.join([str(element) for element in list])\n",
        "  return list"
      ],
      "execution_count": 55,
      "outputs": []
    },
    {
      "cell_type": "code",
      "metadata": {
        "id": "t93XD97PQmdV",
        "colab_type": "code",
        "colab": {
          "base_uri": "https://localhost:8080/",
          "height": 364
        },
        "outputId": "e1914680-98d2-49eb-e293-9dc5acdf0ba7"
      },
      "source": [
        "teste = sample_text\n",
        "result = spacy_tokenizer(teste)\n",
        "result"
      ],
      "execution_count": 56,
      "outputs": [
        {
          "output_type": "error",
          "ename": "AttributeError",
          "evalue": "ignored",
          "traceback": [
            "\u001b[0;31m---------------------------------------------------------------------------\u001b[0m",
            "\u001b[0;31mAttributeError\u001b[0m                            Traceback (most recent call last)",
            "\u001b[0;32m<ipython-input-56-1fee7f3eac3e>\u001b[0m in \u001b[0;36m<module>\u001b[0;34m()\u001b[0m\n\u001b[1;32m      1\u001b[0m \u001b[0mteste\u001b[0m \u001b[0;34m=\u001b[0m \u001b[0msample_text\u001b[0m\u001b[0;34m\u001b[0m\u001b[0;34m\u001b[0m\u001b[0m\n\u001b[0;32m----> 2\u001b[0;31m \u001b[0mresult\u001b[0m \u001b[0;34m=\u001b[0m \u001b[0mspacy_tokenizer\u001b[0m\u001b[0;34m(\u001b[0m\u001b[0mteste\u001b[0m\u001b[0;34m)\u001b[0m\u001b[0;34m\u001b[0m\u001b[0;34m\u001b[0m\u001b[0m\n\u001b[0m\u001b[1;32m      3\u001b[0m \u001b[0mresult\u001b[0m\u001b[0;34m\u001b[0m\u001b[0;34m\u001b[0m\u001b[0m\n",
            "\u001b[0;32m<ipython-input-55-f4c460dd5f81>\u001b[0m in \u001b[0;36mspacy_tokenizer\u001b[0;34m(sentence)\u001b[0m\n\u001b[1;32m      3\u001b[0m   \u001b[0msentence\u001b[0m \u001b[0;34m=\u001b[0m \u001b[0msentence\u001b[0m\u001b[0;34m.\u001b[0m\u001b[0mlower\u001b[0m\u001b[0;34m(\u001b[0m\u001b[0;34m)\u001b[0m \u001b[0;31m## coloca tudo em minúsculo\u001b[0m\u001b[0;34m\u001b[0m\u001b[0;34m\u001b[0m\u001b[0m\n\u001b[1;32m      4\u001b[0m   \u001b[0mlist\u001b[0m \u001b[0;34m=\u001b[0m \u001b[0;34m[\u001b[0m\u001b[0;34m]\u001b[0m   \u001b[0;31m## nlp(sentence)\u001b[0m\u001b[0;34m\u001b[0m\u001b[0;34m\u001b[0m\u001b[0m\n\u001b[0;32m----> 5\u001b[0;31m   list = [word.lema_ for word in nlp(sentence) if (word.is_stop or\n\u001b[0m\u001b[1;32m      6\u001b[0m                                               \u001b[0mword\u001b[0m\u001b[0;34m.\u001b[0m\u001b[0mlike_num\u001b[0m \u001b[0;32mor\u001b[0m\u001b[0;34m\u001b[0m\u001b[0;34m\u001b[0m\u001b[0m\n\u001b[1;32m      7\u001b[0m                                               \u001b[0mword\u001b[0m\u001b[0;34m.\u001b[0m\u001b[0mis_punct\u001b[0m \u001b[0;32mor\u001b[0m\u001b[0;34m\u001b[0m\u001b[0;34m\u001b[0m\u001b[0m\n",
            "\u001b[0;32m<ipython-input-55-f4c460dd5f81>\u001b[0m in \u001b[0;36m<listcomp>\u001b[0;34m(.0)\u001b[0m\n\u001b[1;32m      6\u001b[0m                                               \u001b[0mword\u001b[0m\u001b[0;34m.\u001b[0m\u001b[0mlike_num\u001b[0m \u001b[0;32mor\u001b[0m\u001b[0;34m\u001b[0m\u001b[0;34m\u001b[0m\u001b[0m\n\u001b[1;32m      7\u001b[0m                                               \u001b[0mword\u001b[0m\u001b[0;34m.\u001b[0m\u001b[0mis_punct\u001b[0m \u001b[0;32mor\u001b[0m\u001b[0;34m\u001b[0m\u001b[0;34m\u001b[0m\u001b[0m\n\u001b[0;32m----> 8\u001b[0;31m                                               word.is_space)]\n\u001b[0m\u001b[1;32m      9\u001b[0m   \u001b[0mlist\u001b[0m \u001b[0;34m=\u001b[0m \u001b[0;34m' '\u001b[0m\u001b[0;34m.\u001b[0m\u001b[0mjoin\u001b[0m\u001b[0;34m(\u001b[0m\u001b[0;34m[\u001b[0m\u001b[0mstr\u001b[0m\u001b[0;34m(\u001b[0m\u001b[0melement\u001b[0m\u001b[0;34m)\u001b[0m \u001b[0;32mfor\u001b[0m \u001b[0melement\u001b[0m \u001b[0;32min\u001b[0m \u001b[0mlist\u001b[0m\u001b[0;34m]\u001b[0m\u001b[0;34m)\u001b[0m\u001b[0;34m\u001b[0m\u001b[0;34m\u001b[0m\u001b[0m\n\u001b[1;32m     10\u001b[0m   \u001b[0;32mreturn\u001b[0m \u001b[0mlist\u001b[0m\u001b[0;34m\u001b[0m\u001b[0;34m\u001b[0m\u001b[0m\n",
            "\u001b[0;31mAttributeError\u001b[0m: 'spacy.tokens.token.Token' object has no attribute 'lema_'"
          ]
        }
      ]
    }
  ]
}