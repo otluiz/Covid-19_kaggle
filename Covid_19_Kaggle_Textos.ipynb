{
  "nbformat": 4,
  "nbformat_minor": 0,
  "metadata": {
    "colab": {
      "name": "Covid-19 - Kaggle Textos.ipynb",
      "provenance": [],
      "collapsed_sections": [],
      "include_colab_link": true
    },
    "kernelspec": {
      "name": "python3",
      "display_name": "Python 3"
    },
    "accelerator": "TPU"
  },
  "cells": [
    {
      "cell_type": "markdown",
      "metadata": {
        "id": "view-in-github",
        "colab_type": "text"
      },
      "source": [
        "<a href=\"https://colab.research.google.com/github/otluiz/Covid-19_kaggle/blob/master/Covid_19_Kaggle_Textos.ipynb\" target=\"_parent\"><img src=\"https://colab.research.google.com/assets/colab-badge.svg\" alt=\"Open In Colab\"/></a>"
      ]
    },
    {
      "cell_type": "code",
      "metadata": {
        "id": "-hMn8kIB_fB5",
        "colab_type": "code",
        "colab": {
          "base_uri": "https://localhost:8080/",
          "height": 74
        },
        "outputId": "a412f2c4-53a8-427a-ae28-ef37d65dd1ec"
      },
      "source": [
        "import numpy as np\n",
        "import zipfile\n",
        "import pandas as pd\n",
        "import glob\n",
        "import json\n",
        "import seaborn as sns\n",
        "import spacy\n",
        "import nltk\n",
        "from IPython.core.display import HTML\n",
        "from matplotlib import pyplot as plt"
      ],
      "execution_count": 5,
      "outputs": [
        {
          "output_type": "stream",
          "text": [
            "/usr/local/lib/python3.6/dist-packages/statsmodels/tools/_testing.py:19: FutureWarning: pandas.util.testing is deprecated. Use the functions in the public API at pandas.testing instead.\n",
            "  import pandas.util.testing as tm\n"
          ],
          "name": "stderr"
        }
      ]
    },
    {
      "cell_type": "code",
      "metadata": {
        "id": "HP3IfLkI_3zM",
        "colab_type": "code",
        "colab": {}
      },
      "source": [
        "!pip install -U spacy\n",
        "!pip install scispacy\n",
        "!pip install https://s3-us-west-2.amazonaws.com/ai2-s2-scispacy/releases/v0.2.5/en_core_sci_md-0.2.5.tar.gz\n",
        "import en_core_sci_md\n",
        "!python -m spacy download en\n",
        "import scispacy\n",
        "import zipfile"
      ],
      "execution_count": null,
      "outputs": []
    },
    {
      "cell_type": "markdown",
      "metadata": {
        "id": "ZAHqiASIJMqR",
        "colab_type": "text"
      },
      "source": [
        "Chama os drives da Google e monta um novo diretório neste 'notebook'. Precisa de uma conexão (URL) onde a Google gera uma 'auth' para entrar no meu Google Drive"
      ]
    },
    {
      "cell_type": "markdown",
      "metadata": {
        "id": "KxwNIFyBCBC1",
        "colab_type": "text"
      },
      "source": [
        "First, you'll need to mount your Drive."
      ]
    },
    {
      "cell_type": "code",
      "metadata": {
        "id": "prUMpfLaB-D7",
        "colab_type": "code",
        "colab": {
          "base_uri": "https://localhost:8080/",
          "height": 55
        },
        "outputId": "51d634cc-3f29-43dc-fe8a-f84349d058c5"
      },
      "source": [
        "from google.colab import drive\n",
        "drive.mount('/content/gdrive')"
      ],
      "execution_count": 7,
      "outputs": [
        {
          "output_type": "stream",
          "text": [
            "Drive already mounted at /content/gdrive; to attempt to forcibly remount, call drive.mount(\"/content/gdrive\", force_remount=True).\n"
          ],
          "name": "stdout"
        }
      ]
    },
    {
      "cell_type": "markdown",
      "metadata": {
        "id": "4SkYZjxaIl_9",
        "colab_type": "text"
      },
      "source": [
        "Conecta ao diretório do meu Google Drive onde estão os dados da Covid-19 que está compactado.\n",
        "Será descompactado (unzip) no meu Google Drive\n"
      ]
    },
    {
      "cell_type": "code",
      "metadata": {
        "id": "bC9VFHaC9PQA",
        "colab_type": "code",
        "colab": {}
      },
      "source": [
        "path = '/content/gdrive/My Drive/CORD-19-research-challenge.zip'\n",
        "from zipfile import *\n",
        "zip_object = zipfile.ZipFile(file=path, mode='r')\n",
        "zip_object.extractall('./')\n",
        "zip_object.close()"
      ],
      "execution_count": 8,
      "outputs": []
    },
    {
      "cell_type": "markdown",
      "metadata": {
        "id": "0Mz-iWVcIbbo",
        "colab_type": "text"
      },
      "source": [
        "Criação do DataFrame com os textos dos artigos\n"
      ]
    },
    {
      "cell_type": "markdown",
      "metadata": {
        "id": "pvQ11GtKLHwG",
        "colab_type": "text"
      },
      "source": [
        "DataFrame no formato JSON"
      ]
    },
    {
      "cell_type": "code",
      "metadata": {
        "id": "8uA_oEib9F0G",
        "colab_type": "code",
        "colab": {}
      },
      "source": [
        "features_corona = {'paper_id': [],\n",
        "                   'title' : [],\n",
        "                   'abstract' : [],\n",
        "                   'text' : []}"
      ],
      "execution_count": 9,
      "outputs": []
    },
    {
      "cell_type": "markdown",
      "metadata": {
        "id": "UwDHhcF5LzZC",
        "colab_type": "text"
      },
      "source": [
        "Testando o tipo \"features_corona\"\n"
      ]
    },
    {
      "cell_type": "code",
      "metadata": {
        "id": "74qx4Z-NL861",
        "colab_type": "code",
        "colab": {
          "base_uri": "https://localhost:8080/",
          "height": 35
        },
        "outputId": "7cf4c384-f81b-4539-e90e-8b4f17585087"
      },
      "source": [
        "type (features_corona)"
      ],
      "execution_count": 52,
      "outputs": [
        {
          "output_type": "execute_result",
          "data": {
            "text/plain": [
              "dict"
            ]
          },
          "metadata": {
            "tags": []
          },
          "execution_count": 52
        }
      ]
    },
    {
      "cell_type": "markdown",
      "metadata": {
        "id": "3ZuBhy04MKpk",
        "colab_type": "text"
      },
      "source": [
        "Transformar o tipo dict em dataframe\n"
      ]
    },
    {
      "cell_type": "code",
      "metadata": {
        "id": "iMPS1eYxMlyr",
        "colab_type": "code",
        "colab": {}
      },
      "source": [
        "corona_df = pd.DataFrame.from_dict(features_corona)"
      ],
      "execution_count": 11,
      "outputs": []
    },
    {
      "cell_type": "markdown",
      "metadata": {
        "id": "QQLm19DkOkOT",
        "colab_type": "text"
      },
      "source": [
        "Verificando o novo tipo"
      ]
    },
    {
      "cell_type": "code",
      "metadata": {
        "id": "SRFbBJRKOhaf",
        "colab_type": "code",
        "colab": {
          "base_uri": "https://localhost:8080/",
          "height": 35
        },
        "outputId": "51ee14f2-ef43-464c-c772-2bb77d654d02"
      },
      "source": [
        "type (corona_df)"
      ],
      "execution_count": 12,
      "outputs": [
        {
          "output_type": "execute_result",
          "data": {
            "text/plain": [
              "pandas.core.frame.DataFrame"
            ]
          },
          "metadata": {
            "tags": []
          },
          "execution_count": 12
        }
      ]
    },
    {
      "cell_type": "markdown",
      "metadata": {
        "id": "ADWfkbmUOwxb",
        "colab_type": "text"
      },
      "source": [
        "Pandas é o \"default for Machine Learning in Python projects\"\n"
      ]
    },
    {
      "cell_type": "code",
      "metadata": {
        "id": "43bgvaq6PgDI",
        "colab_type": "code",
        "colab": {
          "base_uri": "https://localhost:8080/",
          "height": 49
        },
        "outputId": "a2d34fd1-52d8-4983-911f-166505d1ac22"
      },
      "source": [
        "corona_df.head()"
      ],
      "execution_count": 13,
      "outputs": [
        {
          "output_type": "execute_result",
          "data": {
            "text/html": [
              "<div>\n",
              "<style scoped>\n",
              "    .dataframe tbody tr th:only-of-type {\n",
              "        vertical-align: middle;\n",
              "    }\n",
              "\n",
              "    .dataframe tbody tr th {\n",
              "        vertical-align: top;\n",
              "    }\n",
              "\n",
              "    .dataframe thead th {\n",
              "        text-align: right;\n",
              "    }\n",
              "</style>\n",
              "<table border=\"1\" class=\"dataframe\">\n",
              "  <thead>\n",
              "    <tr style=\"text-align: right;\">\n",
              "      <th></th>\n",
              "      <th>paper_id</th>\n",
              "      <th>title</th>\n",
              "      <th>abstract</th>\n",
              "      <th>text</th>\n",
              "    </tr>\n",
              "  </thead>\n",
              "  <tbody>\n",
              "  </tbody>\n",
              "</table>\n",
              "</div>"
            ],
            "text/plain": [
              "Empty DataFrame\n",
              "Columns: [paper_id, title, abstract, text]\n",
              "Index: []"
            ]
          },
          "metadata": {
            "tags": []
          },
          "execution_count": 13
        }
      ]
    },
    {
      "cell_type": "markdown",
      "metadata": {
        "id": "fbK2PoyLPoMN",
        "colab_type": "text"
      },
      "source": [
        "Ler os arquivos JSON a partir da raiz '/' para popular o futuro dataframe (corona_df) a ser criado mais adiante\n"
      ]
    },
    {
      "cell_type": "code",
      "metadata": {
        "id": "aqsYMynlPm_d",
        "colab_type": "code",
        "colab": {}
      },
      "source": [
        "json_filenames = glob.glob(f'{\"./\"}//**/*.json', recursive = True)\n",
        "print(json_filenames)"
      ],
      "execution_count": null,
      "outputs": []
    },
    {
      "cell_type": "code",
      "metadata": {
        "id": "1o08_XtnUifm",
        "colab_type": "code",
        "colab": {
          "base_uri": "https://localhost:8080/",
          "height": 35
        },
        "outputId": "c4d0e417-a655-4061-ac52-c195d3a9545d"
      },
      "source": [
        "len(json_filenames)"
      ],
      "execution_count": 15,
      "outputs": [
        {
          "output_type": "execute_result",
          "data": {
            "text/plain": [
              "29316"
            ]
          },
          "metadata": {
            "tags": []
          },
          "execution_count": 15
        }
      ]
    },
    {
      "cell_type": "markdown",
      "metadata": {
        "id": "BeNmqDb64jyu",
        "colab_type": "text"
      },
      "source": [
        "Cada arquivo JSON seráá uma linha do dataframe, populando assim o corona_df\n"
      ]
    },
    {
      "cell_type": "code",
      "metadata": {
        "id": "LZqlI2yH5SdH",
        "colab_type": "code",
        "colab": {}
      },
      "source": [
        "def retorna_corona_df(json_filenames, df):\n",
        "  for file_name in json_filenames:\n",
        "    linha_dados = {'paper_id': None, 'title': None, 'abstract': None, 'text': None}\n",
        "\n",
        "    with open(file_name) as json_data:\n",
        "      if file_name == './sample_data/anscombe.json': # ignora os anscombe.json\n",
        "        continue\n",
        "      #if file_name == './MeuMestrado/ProjetoGeolocalização/node_modules/gulp/node_modules/tildify/*.json': \n",
        "      #  continue\n",
        "\n",
        "      data = json.load(json_data)\n",
        "\n",
        "      ## .strip() : ' 345 ' -> '345' retira os espaços\n",
        "      linha_dados['paper_id'] = data['paper_id'].strip()\n",
        "      linha_dados['title'] = data['metadata']['title'].strip()\n",
        "\n",
        "      abstract_list = [abstract['text'] for abstract in data['abstract']]\n",
        "      abstract = '\\n'.join(abstract_list)\n",
        "      linha_dados['abstract'] = abstract.strip()\n",
        "\n",
        "      text_list = [text['text'] for text in data['body_text']]\n",
        "      text = '\\n'.join(text_list)\n",
        "      linha_dados['text'] = text.strip()\n",
        "\n",
        "      df = df.append(linha_dados, ignore_index = True)\n",
        "  return df"
      ],
      "execution_count": 16,
      "outputs": []
    },
    {
      "cell_type": "code",
      "metadata": {
        "id": "EuGChutx9IKJ",
        "colab_type": "code",
        "colab": {}
      },
      "source": [
        "corona_df = retorna_corona_df(json_filenames, corona_df)"
      ],
      "execution_count": 17,
      "outputs": []
    },
    {
      "cell_type": "code",
      "metadata": {
        "id": "a-7gYTIRfmmD",
        "colab_type": "code",
        "colab": {}
      },
      "source": [
        "corona_df2 = corona_df[['paper_id', 'title', 'abstract', 'text']] ## criando um back-up do DataFrame\n"
      ],
      "execution_count": 18,
      "outputs": []
    },
    {
      "cell_type": "code",
      "metadata": {
        "id": "dXtPL3LzbBYJ",
        "colab_type": "code",
        "colab": {}
      },
      "source": [
        "#corona_df.drop(corona_df.tail(29315).index,inplace=True) # remove as ultimas linhas"
      ],
      "execution_count": 19,
      "outputs": []
    },
    {
      "cell_type": "code",
      "metadata": {
        "id": "e_oRTN7Rbzsc",
        "colab_type": "code",
        "colab": {}
      },
      "source": [
        "#corona_df.drop(corona_df.head(2).index,inplace=True) # drop first 2 rows"
      ],
      "execution_count": 20,
      "outputs": []
    },
    {
      "cell_type": "code",
      "metadata": {
        "id": "4Px975LyMOoq",
        "colab_type": "code",
        "colab": {
          "base_uri": "https://localhost:8080/",
          "height": 35
        },
        "outputId": "92b1bb8d-500f-40b5-d2b8-e3b0d3772d68"
      },
      "source": [
        "corona_df.shape"
      ],
      "execution_count": 21,
      "outputs": [
        {
          "output_type": "execute_result",
          "data": {
            "text/plain": [
              "(29315, 4)"
            ]
          },
          "metadata": {
            "tags": []
          },
          "execution_count": 21
        }
      ]
    },
    {
      "cell_type": "code",
      "metadata": {
        "id": "1Q3Ei9z6gb_o",
        "colab_type": "code",
        "colab": {
          "base_uri": "https://localhost:8080/",
          "height": 35
        },
        "outputId": "d9b8912b-25ca-4afe-81db-7728be0f50f3"
      },
      "source": [
        "corona_df2.shape"
      ],
      "execution_count": 22,
      "outputs": [
        {
          "output_type": "execute_result",
          "data": {
            "text/plain": [
              "(29315, 4)"
            ]
          },
          "metadata": {
            "tags": []
          },
          "execution_count": 22
        }
      ]
    },
    {
      "cell_type": "code",
      "metadata": {
        "id": "Q8wEcEru5Caf",
        "colab_type": "code",
        "colab": {}
      },
      "source": [
        "corona_df.head()"
      ],
      "execution_count": null,
      "outputs": []
    },
    {
      "cell_type": "code",
      "metadata": {
        "id": "uAK2a2Vp5MDr",
        "colab_type": "code",
        "colab": {
          "base_uri": "https://localhost:8080/",
          "height": 54
        },
        "outputId": "d96e0851-cedb-4b5c-fe39-f8f84d2e82c7"
      },
      "source": [
        "corona_df['title'][29314] ## Analise de algum texto escolhido ao acaso"
      ],
      "execution_count": 24,
      "outputs": [
        {
          "output_type": "execute_result",
          "data": {
            "application/vnd.google.colaboratory.intrinsic+json": {
              "type": "string"
            },
            "text/plain": [
              "'Title: Anesthetic agents affect urodynamic parameters and anesthetic depth at doses necessary to facilitate preclinical testing in felines'"
            ]
          },
          "metadata": {
            "tags": []
          },
          "execution_count": 24
        }
      ]
    },
    {
      "cell_type": "code",
      "metadata": {
        "id": "HuR_-qr4eT_O",
        "colab_type": "code",
        "colab": {}
      },
      "source": [
        "corona_df.tail()"
      ],
      "execution_count": null,
      "outputs": []
    },
    {
      "cell_type": "code",
      "metadata": {
        "id": "946lWuD_dzOw",
        "colab_type": "code",
        "colab": {}
      },
      "source": [
        "corona_df['text'][2]"
      ],
      "execution_count": null,
      "outputs": []
    },
    {
      "cell_type": "code",
      "metadata": {
        "id": "n9zGSqjWitbG",
        "colab_type": "code",
        "colab": {}
      },
      "source": [
        "len(corona_df['text'][2]) ## Quantas palavras têm este texto [2]?"
      ],
      "execution_count": null,
      "outputs": []
    },
    {
      "cell_type": "markdown",
      "metadata": {
        "id": "JKFvomXzjP2Q",
        "colab_type": "text"
      },
      "source": [
        "**PERPROCESSAMENTO DE TEXTOS DOS ARTIGOS**\n",
        "<PROCURANDO POR DADOS FALTANTES>"
      ]
    },
    {
      "cell_type": "code",
      "metadata": {
        "id": "0qNTsUi4kBHI",
        "colab_type": "code",
        "colab": {
          "base_uri": "https://localhost:8080/",
          "height": 270
        },
        "outputId": "60e88063-fe0b-418a-f618-bcc766c2fe32"
      },
      "source": [
        "sns.heatmap(corona_df.isnull()); ## procurando dados faltantes pelo mapa de calor"
      ],
      "execution_count": 28,
      "outputs": [
        {
          "output_type": "display_data",
          "data": {
            "image/png": "[encoded data removed]",
            "text/plain": [
              "<Figure size 432x288 with 2 Axes>"
            ]
          },
          "metadata": {
            "tags": [],
            "needs_background": "light"
          }
        }
      ]
    },
    {
      "cell_type": "code",
      "metadata": {
        "id": "avSheKFTlHAB",
        "colab_type": "code",
        "colab": {
          "base_uri": "https://localhost:8080/",
          "height": 35
        },
        "outputId": "7c22a057-bf68-498d-8c8e-eb7215728945"
      },
      "source": [
        "len(corona_df[corona_df['paper_id'] == '']) # procurando por espaços vazios"
      ],
      "execution_count": 29,
      "outputs": [
        {
          "output_type": "execute_result",
          "data": {
            "text/plain": [
              "0"
            ]
          },
          "metadata": {
            "tags": []
          },
          "execution_count": 29
        }
      ]
    },
    {
      "cell_type": "code",
      "metadata": {
        "id": "d9U3fNPwlWdP",
        "colab_type": "code",
        "colab": {
          "base_uri": "https://localhost:8080/",
          "height": 35
        },
        "outputId": "038a0faa-5096-44b7-eb17-488249f475e1"
      },
      "source": [
        "len(corona_df[corona_df['title'] == '']) # procurando por espaços vazios nos tíítulos"
      ],
      "execution_count": 30,
      "outputs": [
        {
          "output_type": "execute_result",
          "data": {
            "text/plain": [
              "3583"
            ]
          },
          "metadata": {
            "tags": []
          },
          "execution_count": 30
        }
      ]
    },
    {
      "cell_type": "code",
      "metadata": {
        "id": "Qb4SszdOlkqn",
        "colab_type": "code",
        "colab": {
          "base_uri": "https://localhost:8080/",
          "height": 35
        },
        "outputId": "9de1ace5-dd94-46ce-fbcd-2a113d3947bf"
      },
      "source": [
        "len(corona_df[corona_df['abstract'] == '']) # procurando por espaços vazios nos abstracts"
      ],
      "execution_count": 31,
      "outputs": [
        {
          "output_type": "execute_result",
          "data": {
            "text/plain": [
              "8051"
            ]
          },
          "metadata": {
            "tags": []
          },
          "execution_count": 31
        }
      ]
    },
    {
      "cell_type": "code",
      "metadata": {
        "id": "zzQRIZLklskU",
        "colab_type": "code",
        "colab": {
          "base_uri": "https://localhost:8080/",
          "height": 35
        },
        "outputId": "1b98e363-5290-4a85-ede4-3547c35bcce5"
      },
      "source": [
        "len(corona_df[corona_df['text'] == '']) # procurando por espaços vazios nos textos"
      ],
      "execution_count": 32,
      "outputs": [
        {
          "output_type": "execute_result",
          "data": {
            "text/plain": [
              "0"
            ]
          },
          "metadata": {
            "tags": []
          },
          "execution_count": 32
        }
      ]
    },
    {
      "cell_type": "code",
      "metadata": {
        "id": "KpJJEEL2my02",
        "colab_type": "code",
        "colab": {}
      },
      "source": [
        "#corona_df = corona_df2  ## reafzendo tudo porra!!"
      ],
      "execution_count": 33,
      "outputs": []
    },
    {
      "cell_type": "code",
      "metadata": {
        "id": "DhJo_65rl4xM",
        "colab_type": "code",
        "colab": {}
      },
      "source": [
        "corona_df = corona_df[corona_df['title'] != ''] ## apagando os artigos sem tíítulos"
      ],
      "execution_count": 34,
      "outputs": []
    },
    {
      "cell_type": "code",
      "metadata": {
        "id": "aH8Qi-1kmUEO",
        "colab_type": "code",
        "colab": {}
      },
      "source": [
        "corona_df = corona_df[corona_df['abstract'] != ''] ## apagando os artigos sem abstract"
      ],
      "execution_count": 35,
      "outputs": []
    },
    {
      "cell_type": "code",
      "metadata": {
        "id": "f4sP7V24mbMM",
        "colab_type": "code",
        "colab": {
          "base_uri": "https://localhost:8080/",
          "height": 35
        },
        "outputId": "73c00078-9060-48bc-bbbd-bd44e99c16fe"
      },
      "source": [
        "corona_df.shape ## o que sobrou após a limpeza??"
      ],
      "execution_count": 36,
      "outputs": [
        {
          "output_type": "execute_result",
          "data": {
            "text/plain": [
              "(20343, 4)"
            ]
          },
          "metadata": {
            "tags": []
          },
          "execution_count": 36
        }
      ]
    },
    {
      "cell_type": "markdown",
      "metadata": {
        "id": "PxNzJd_An8h9",
        "colab_type": "text"
      },
      "source": [
        "**REMOVENDO ARTIGOS DUPLICADOS**"
      ]
    },
    {
      "cell_type": "code",
      "metadata": {
        "id": "ZmfKkpEZn7zr",
        "colab_type": "code",
        "colab": {}
      },
      "source": [
        "corona_df.drop_duplicates(['abstract', 'text', 'title'], inplace=True)"
      ],
      "execution_count": 37,
      "outputs": []
    },
    {
      "cell_type": "code",
      "metadata": {
        "id": "ncK0djuIoacK",
        "colab_type": "code",
        "colab": {
          "base_uri": "https://localhost:8080/",
          "height": 35
        },
        "outputId": "01f12863-561b-4bed-df93-dae5254c5f69"
      },
      "source": [
        "corona_df.shape  ## vendo quem mandou 2 ou mais vezes o mesmo artigo - ahaha"
      ],
      "execution_count": 38,
      "outputs": [
        {
          "output_type": "execute_result",
          "data": {
            "text/plain": [
              "(20211, 4)"
            ]
          },
          "metadata": {
            "tags": []
          },
          "execution_count": 38
        }
      ]
    },
    {
      "cell_type": "markdown",
      "metadata": {
        "id": "vLXNZbbDqknD",
        "colab_type": "text"
      },
      "source": [
        "**BASE DE DADOS DE AMOSTRA**\n"
      ]
    },
    {
      "cell_type": "code",
      "metadata": {
        "id": "pYdixkoLqswc",
        "colab_type": "code",
        "colab": {}
      },
      "source": [
        "corona_df = corona_df.sample(n = 500, random_state=1)"
      ],
      "execution_count": 77,
      "outputs": []
    },
    {
      "cell_type": "code",
      "metadata": {
        "id": "BEx2uan6q75n",
        "colab_type": "code",
        "colab": {
          "base_uri": "https://localhost:8080/",
          "height": 35
        },
        "outputId": "685bd13c-963c-425b-9ec0-9a59123ae3c5"
      },
      "source": [
        "corona_df.shape"
      ],
      "execution_count": 78,
      "outputs": [
        {
          "output_type": "execute_result",
          "data": {
            "text/plain": [
              "(500, 4)"
            ]
          },
          "metadata": {
            "tags": []
          },
          "execution_count": 78
        }
      ]
    },
    {
      "cell_type": "code",
      "metadata": {
        "id": "_kprMMp0rAau",
        "colab_type": "code",
        "colab": {}
      },
      "source": [
        "corona_df.head()"
      ],
      "execution_count": null,
      "outputs": []
    },
    {
      "cell_type": "code",
      "metadata": {
        "id": "iHYk88WIrK6V",
        "colab_type": "code",
        "colab": {}
      },
      "source": [
        "corona_df.tail()"
      ],
      "execution_count": null,
      "outputs": []
    },
    {
      "cell_type": "code",
      "metadata": {
        "id": "AAMrF_p157i4",
        "colab_type": "code",
        "colab": {}
      },
      "source": [
        "## Visual Text analisys\n",
        "sample_text = corona_df['text'][12341]\n",
        "sample_text"
      ],
      "execution_count": null,
      "outputs": []
    },
    {
      "cell_type": "code",
      "metadata": {
        "id": "Ct9zrMZ0-PYX",
        "colab_type": "code",
        "colab": {}
      },
      "source": [
        "!pip install https://s3-us-west-2.amazonaws.com/ai2-s2-scispacy/releases/v0.2.5/en_core_sci_md-0.2.5.tar.gz"
      ],
      "execution_count": null,
      "outputs": []
    },
    {
      "cell_type": "code",
      "metadata": {
        "id": "kgB_fMAubRjJ",
        "colab_type": "code",
        "colab": {
          "base_uri": "https://localhost:8080/",
          "height": 90
        },
        "outputId": "7266d50c-5f52-4c52-c1bd-217d4858671d"
      },
      "source": [
        "#!pip uninstall en_core_web_md\n",
        "#!pip uninstall en_core_sci_sm\n",
        "#!pip uninstall en_core_sci_md\n",
        "#!python -m spacy download en_core_web_md\n",
        "#!python -m spacy download en_core_sci_md\n",
        "#!python -m spacy link en_core_web_md en --force\n",
        "!python -m spacy link en_core_sci_md en --force"
      ],
      "execution_count": 45,
      "outputs": [
        {
          "output_type": "stream",
          "text": [
            "\u001b[38;5;2m✔ Linking successful\u001b[0m\n",
            "/usr/local/lib/python3.6/dist-packages/en_core_sci_md -->\n",
            "/usr/local/lib/python3.6/dist-packages/spacy/data/en\n",
            "You can now load the model via spacy.load('en')\n"
          ],
          "name": "stdout"
        }
      ]
    },
    {
      "cell_type": "markdown",
      "metadata": {
        "id": "b9gphVNR6-jE",
        "colab_type": "text"
      },
      "source": [
        "**FUNÇÃO PARA PREPROCESSAMENTO**\n"
      ]
    },
    {
      "cell_type": "code",
      "metadata": {
        "id": "dHJtPzdeoCfu",
        "colab_type": "code",
        "colab": {}
      },
      "source": [
        "##ESABILITANDO 'PARSER' -> DA ANÁLISE DE PALAVRAS; RECONHECIMENTO DE ENITADADES -> 'NER'\n",
        "#!python -m download en_core_sci_md\n",
        "import spacy, scispacy\n",
        "nlp = spacy.load('en')\n",
        "#!spacy download en_core_sci_md\n",
        "\n",
        "nlp = spacy.load('en_core_sci_md')\n",
        "nlp = en_core_sci_md.load(disable=['tagger', 'parser', 'ner'])\n",
        "\n",
        "nlp.max_length = 2000000"
      ],
      "execution_count": 60,
      "outputs": []
    },
    {
      "cell_type": "code",
      "metadata": {
        "id": "R4mL92yMPeWj",
        "colab_type": "code",
        "colab": {
          "base_uri": "https://localhost:8080/",
          "height": 55
        },
        "outputId": "3e2af009-b71e-44cb-9db4-28a9267419c5"
      },
      "source": [
        "print(spacy.lang.en.stop_words.STOP_WORDS)"
      ],
      "execution_count": 61,
      "outputs": [
        {
          "output_type": "stream",
          "text": [
            "{'somewhere', 'these', 'although', 'would', 'since', \"'ll\", 'whenever', 'though', 'few', 'under', 'full', 'too', '‘m', 'below', 'before', 'anyhow', 'beside', 'among', 'do', 'more', 'because', 'have', 'unless', 'hereupon', 'whither', '‘ve', 'yourself', 'such', 'done', 'fifty', 'seemed', 'be', 'least', 'besides', 'less', 'thereupon', 'nor', 'indeed', 'all', 'nowhere', 'together', 'us', 'well', 'your', 'thus', 'could', 'anyway', 'may', 'after', 'however', 'beforehand', 'part', 'thereby', 'to', 'various', 'n‘t', 'out', 'otherwise', 'along', 'down', 'elsewhere', 'moreover', 'nine', 'upon', 'someone', 'whereafter', 'were', 'never', 'whereupon', 'himself', 'with', 'hereafter', 'other', 'the', 'sixty', 'does', 'who', 'everyone', 'whatever', 'forty', 'bottom', 'own', 'serious', 'others', 'another', 'used', 'he', 'really', 'also', 'first', 'four', 'mostly', 'will', 'becomes', 'each', 'keep', 'further', '’d', 'next', 'mine', 'how', 'and', 'into', 'often', 'there', 'sometime', 'hence', 'must', 'her', 'twelve', 're', 'via', 'everything', 'once', 'around', 'yours', 'nevertheless', 'onto', 'twenty', 'but', 'myself', \"n't\", 'both', 'can', 'made', 'seem', 'so', 'ca', 'over', 'either', 'through', 'back', 'six', 'give', 'here', 'above', 'been', 'almost', 'per', 'name', 'if', 'only', 'seeming', 'still', 'amount', 'many', 'should', 'towards', 'whereas', 'former', 'move', 'using', 'by', 'formerly', 'did', 'anyone', 'anything', 'an', 'meanwhile', 'ours', 'say', \"'re\", 'behind', 'where', '’ve', 'whose', 'his', \"'s\", 'empty', 'very', 'she', '‘re', 'between', '‘d', 'always', 'fifteen', 'herein', 'within', 'hereby', 'else', 'cannot', 'enough', 'afterwards', 'him', 'itself', 'take', 'top', 'make', 'what', 'two', 'until', 'seems', 'whether', 'every', 'became', 'ten', 'which', 'therefore', 'quite', 'eight', 'wherever', 'ever', 'it', 'than', 'nobody', 'rather', 'thence', 'get', 'sometimes', 'therein', 'had', 'those', 'perhaps', 'while', 'whom', 'already', 'somehow', 'their', 'again', 'has', 'please', 'on', 'side', 'them', 'when', 'whence', 'was', 'wherein', 'yet', 'front', 'latter', 'being', 'show', 'am', 'its', 'this', 'not', 'you', '’re', 'go', 'last', 'none', 'one', 'up', 'becoming', 'alone', 'our', 'three', \"'m\", 'then', 'nothing', 'across', 'neither', 'third', 'five', 'during', 'in', 'most', 'toward', 'yourselves', 'of', 'everywhere', 'thereafter', 'are', 'beyond', 'herself', 'about', 'for', 'might', 'whereby', 'we', 'hers', 'namely', 'is', 'except', 'latterly', 'put', 'as', 'regarding', 'n’t', 'a', 'due', 'thru', '’m', 'doing', 'i', \"'ve\", 'see', 'off', 'without', 'amongst', 'or', 'why', 'me', 'eleven', '’ll', 'call', 'themselves', 'from', 'throughout', 'anywhere', 'noone', '’s', 'become', 'no', 'something', 'just', 'against', 'my', 'ourselves', 'same', 'that', 'whoever', 'now', 'whole', 'they', '‘ll', 'at', 'much', \"'d\", 'some', 'several', 'hundred', 'any', 'even', '‘s'}\n"
          ],
          "name": "stdout"
        }
      ]
    },
    {
      "cell_type": "code",
      "metadata": {
        "id": "b_CDeVfYTods",
        "colab_type": "code",
        "colab": {}
      },
      "source": [
        "sample_text"
      ],
      "execution_count": null,
      "outputs": []
    },
    {
      "cell_type": "code",
      "metadata": {
        "id": "RPdYkcZSP6BF",
        "colab_type": "code",
        "colab": {}
      },
      "source": [
        "\n",
        "def spacy_tokenizer(sentence):\n",
        "  sentence = sentence.lower() ## coloca tudo em minúsculo\n",
        "  list = []   ## nlp(sentence)\n",
        "  list = [word.lemma for word in nlp(sentence) if (word.is_stop or\n",
        "                                              word.like_num or\n",
        "                                              word.is_punct or\n",
        "                                              word.is_space)]\n",
        "  list = ' '.join([str(element) for element in list])\n",
        "  return list"
      ],
      "execution_count": 67,
      "outputs": []
    },
    {
      "cell_type": "code",
      "metadata": {
        "id": "t93XD97PQmdV",
        "colab_type": "code",
        "colab": {}
      },
      "source": [
        "teste = sample_text\n",
        "result = spacy_tokenizer(teste)\n",
        "result"
      ],
      "execution_count": null,
      "outputs": []
    },
    {
      "cell_type": "code",
      "metadata": {
        "id": "1r6KtHm6JjI_",
        "colab_type": "code",
        "colab": {}
      },
      "source": [
        "corona_df['text'] = corona_df['text'].apply(spacy_tokenizer)"
      ],
      "execution_count": 82,
      "outputs": []
    },
    {
      "cell_type": "code",
      "metadata": {
        "id": "mdr3tu5mKAgE",
        "colab_type": "code",
        "colab": {}
      },
      "source": [
        "print(sample_text)"
      ],
      "execution_count": null,
      "outputs": []
    },
    {
      "cell_type": "code",
      "metadata": {
        "id": "gOSbE-RLKWdx",
        "colab_type": "code",
        "colab": {
          "base_uri": "https://localhost:8080/",
          "height": 35
        },
        "outputId": "9a8efb16-6c8d-42c5-cb25-428cb248c2b5"
      },
      "source": [
        "len(sample_text)"
      ],
      "execution_count": 74,
      "outputs": [
        {
          "output_type": "execute_result",
          "data": {
            "text/plain": [
              "51683"
            ]
          },
          "metadata": {
            "tags": []
          },
          "execution_count": 74
        }
      ]
    },
    {
      "cell_type": "code",
      "metadata": {
        "id": "EOM56kSfKa0-",
        "colab_type": "code",
        "colab": {}
      },
      "source": [
        "print(corona_df['text'][11015])"
      ],
      "execution_count": null,
      "outputs": []
    }
  ]
}