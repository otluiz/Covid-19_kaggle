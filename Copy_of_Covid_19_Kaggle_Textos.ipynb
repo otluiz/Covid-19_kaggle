{
  "nbformat": 4,
  "nbformat_minor": 0,
  "metadata": {
    "colab": {
      "name": "Copy of Covid-19 - Kaggle Textos.ipynb",
      "provenance": [],
      "collapsed_sections": [],
      "include_colab_link": true
    },
    "kernelspec": {
      "name": "python3",
      "display_name": "Python 3"
    },
    "accelerator": "TPU"
  },
  "cells": [
    {
      "cell_type": "markdown",
      "metadata": {
        "id": "view-in-github",
        "colab_type": "text"
      },
      "source": [
        "<a href=\"https://colab.research.google.com/github/otluiz/Covid-19_kaggle/blob/master/Copy_of_Covid_19_Kaggle_Textos.ipynb\" target=\"_parent\"><img src=\"https://colab.research.google.com/assets/colab-badge.svg\" alt=\"Open In Colab\"/></a>"
      ]
    },
    {
      "cell_type": "code",
      "metadata": {
        "id": "-hMn8kIB_fB5",
        "colab_type": "code",
        "colab": {
          "base_uri": "https://localhost:8080/",
          "height": 74
        },
        "outputId": "93107738-a9fc-4892-87db-60b1f6887286"
      },
      "source": [
        "import numpy as np\n",
        "import zipfile\n",
        "import pandas as pd\n",
        "import glob\n",
        "import json\n",
        "import seaborn as sns\n",
        "import spacy\n",
        "import nltk\n",
        "from IPython.core.display import HTML\n",
        "from matplotlib import pyplot as plt"
      ],
      "execution_count": 2,
      "outputs": [
        {
          "output_type": "stream",
          "text": [
            "/usr/local/lib/python3.6/dist-packages/statsmodels/tools/_testing.py:19: FutureWarning: pandas.util.testing is deprecated. Use the functions in the public API at pandas.testing instead.\n",
            "  import pandas.util.testing as tm\n"
          ],
          "name": "stderr"
        }
      ]
    },
    {
      "cell_type": "code",
      "metadata": {
        "id": "HP3IfLkI_3zM",
        "colab_type": "code",
        "colab": {}
      },
      "source": [
        "#!pip install -U spacy\n",
        "#!python -m spacy download en\n",
        "!pip install scispacy\n",
        "import scispacy\n",
        "!pip install https://s3-us-west-2.amazonaws.com/ai2-s2-scispacy/releases/v0.2.5/en_core_sci_md-0.2.5.tar.gz\n",
        "import en_core_sci_md\n",
        "import zipfile"
      ],
      "execution_count": null,
      "outputs": []
    },
    {
      "cell_type": "markdown",
      "metadata": {
        "id": "ZAHqiASIJMqR",
        "colab_type": "text"
      },
      "source": [
        "Chama os drives da Google e monta um novo diretório neste 'notebook'. Precisa de uma conexão (URL) onde a Google gera uma 'auth' para entrar no meu Google Drive"
      ]
    },
    {
      "cell_type": "markdown",
      "metadata": {
        "id": "KxwNIFyBCBC1",
        "colab_type": "text"
      },
      "source": [
        "First, you'll need to mount your Drive."
      ]
    },
    {
      "cell_type": "code",
      "metadata": {
        "id": "prUMpfLaB-D7",
        "colab_type": "code",
        "colab": {}
      },
      "source": [
        "from google.colab import drive\n",
        "drive.mount('/content/gdrive')"
      ],
      "execution_count": null,
      "outputs": []
    },
    {
      "cell_type": "markdown",
      "metadata": {
        "id": "4SkYZjxaIl_9",
        "colab_type": "text"
      },
      "source": [
        "Conecta ao diretório do meu Google Drive onde estão os dados da Covid-19 que está compactado.\n",
        "Será descompactado (unzip) no meu Google Drive\n"
      ]
    },
    {
      "cell_type": "code",
      "metadata": {
        "id": "bC9VFHaC9PQA",
        "colab_type": "code",
        "colab": {}
      },
      "source": [
        "path = '/content/gdrive/My Drive/CORD-19-research-challenge.zip'\n",
        "from zipfile import *\n",
        "zip_object = zipfile.ZipFile(file=path, mode='r')\n",
        "zip_object.extractall('./')\n",
        "zip_object.close()"
      ],
      "execution_count": null,
      "outputs": []
    },
    {
      "cell_type": "code",
      "metadata": {
        "id": "Hyv83jfKotlY",
        "colab_type": "code",
        "colab": {}
      },
      "source": [
        ""
      ],
      "execution_count": null,
      "outputs": []
    },
    {
      "cell_type": "markdown",
      "metadata": {
        "id": "0Mz-iWVcIbbo",
        "colab_type": "text"
      },
      "source": [
        "Criação do DataFrame com os textos dos artigos\n"
      ]
    },
    {
      "cell_type": "markdown",
      "metadata": {
        "id": "pvQ11GtKLHwG",
        "colab_type": "text"
      },
      "source": [
        "DataFrame no formato JSON"
      ]
    },
    {
      "cell_type": "code",
      "metadata": {
        "id": "8uA_oEib9F0G",
        "colab_type": "code",
        "colab": {}
      },
      "source": [
        "features_corona = {'paper_id': [],\n",
        "                   'title' : [],\n",
        "                   'abstract' : [],\n",
        "                   'text' : []}"
      ],
      "execution_count": 48,
      "outputs": []
    },
    {
      "cell_type": "markdown",
      "metadata": {
        "id": "UwDHhcF5LzZC",
        "colab_type": "text"
      },
      "source": [
        "Testando o tipo \"features_corona\"\n"
      ]
    },
    {
      "cell_type": "code",
      "metadata": {
        "id": "74qx4Z-NL861",
        "colab_type": "code",
        "colab": {
          "base_uri": "https://localhost:8080/",
          "height": 35
        },
        "outputId": "949daab6-d32f-494b-a30d-4b4c40c4ea23"
      },
      "source": [
        "type (features_corona)"
      ],
      "execution_count": 10,
      "outputs": [
        {
          "output_type": "execute_result",
          "data": {
            "text/plain": [
              "dict"
            ]
          },
          "metadata": {
            "tags": []
          },
          "execution_count": 10
        }
      ]
    },
    {
      "cell_type": "markdown",
      "metadata": {
        "id": "3ZuBhy04MKpk",
        "colab_type": "text"
      },
      "source": [
        "Transformar o tipo dict em dataframe\n"
      ]
    },
    {
      "cell_type": "code",
      "metadata": {
        "id": "iMPS1eYxMlyr",
        "colab_type": "code",
        "colab": {}
      },
      "source": [
        "corona_df = pd.DataFrame.from_dict(features_corona)"
      ],
      "execution_count": 49,
      "outputs": []
    },
    {
      "cell_type": "markdown",
      "metadata": {
        "id": "QQLm19DkOkOT",
        "colab_type": "text"
      },
      "source": [
        "Verificando o novo tipo"
      ]
    },
    {
      "cell_type": "code",
      "metadata": {
        "id": "SRFbBJRKOhaf",
        "colab_type": "code",
        "colab": {
          "base_uri": "https://localhost:8080/",
          "height": 35
        },
        "outputId": "dc3f7b43-5962-4848-8d9c-118b8590401c"
      },
      "source": [
        "type (corona_df)"
      ],
      "execution_count": 50,
      "outputs": [
        {
          "output_type": "execute_result",
          "data": {
            "text/plain": [
              "pandas.core.frame.DataFrame"
            ]
          },
          "metadata": {
            "tags": []
          },
          "execution_count": 50
        }
      ]
    },
    {
      "cell_type": "markdown",
      "metadata": {
        "id": "ADWfkbmUOwxb",
        "colab_type": "text"
      },
      "source": [
        "Pandas é o \"default for Machine Learning in Python projects\"\n"
      ]
    },
    {
      "cell_type": "code",
      "metadata": {
        "id": "43bgvaq6PgDI",
        "colab_type": "code",
        "colab": {}
      },
      "source": [
        "corona_df.head()"
      ],
      "execution_count": null,
      "outputs": []
    },
    {
      "cell_type": "markdown",
      "metadata": {
        "id": "fbK2PoyLPoMN",
        "colab_type": "text"
      },
      "source": [
        "Ler os arquivos JSON a partir da raiz '/' para popular o futuro dataframe (corona_df) a ser criado mais adiante\n"
      ]
    },
    {
      "cell_type": "code",
      "metadata": {
        "id": "aqsYMynlPm_d",
        "colab_type": "code",
        "colab": {}
      },
      "source": [
        "json_filenames = glob.glob(f'{\"./\"}//**/*.json', recursive = True)\n",
        "print(json_filenames)"
      ],
      "execution_count": null,
      "outputs": []
    },
    {
      "cell_type": "code",
      "metadata": {
        "id": "1o08_XtnUifm",
        "colab_type": "code",
        "colab": {
          "base_uri": "https://localhost:8080/",
          "height": 35
        },
        "outputId": "a1b5a302-a03e-4241-f3c6-741098fda943"
      },
      "source": [
        "json_filenames)"
      ],
      "execution_count": 53,
      "outputs": [
        {
          "output_type": "execute_result",
          "data": {
            "text/plain": [
              "29316"
            ]
          },
          "metadata": {
            "tags": []
          },
          "execution_count": 53
        }
      ]
    },
    {
      "cell_type": "markdown",
      "metadata": {
        "id": "BeNmqDb64jyu",
        "colab_type": "text"
      },
      "source": [
        "Cada arquivo JSON seráá uma linha do dataframe, populando assim o corona_df\n"
      ]
    },
    {
      "cell_type": "code",
      "metadata": {
        "id": "LZqlI2yH5SdH",
        "colab_type": "code",
        "colab": {}
      },
      "source": [
        "def retorna_corona_df(json_filenames, df):\n",
        "  for file_name in json_filenames:\n",
        "    linha_dados = {'paper_id': None, 'title': None, 'abstract': None, 'text': None}\n",
        "\n",
        "    with open(file_name) as json_data:\n",
        "      if file_name == './sample_data/anscombe.json': # ignora os anscombe.json\n",
        "        continue\n",
        "      #if file_name == './MeuMestrado/ProjetoGeolocalização/node_modules/gulp/node_modules/tildify/*.json': \n",
        "      #  continue\n",
        "\n",
        "      data = json.load(json_data)\n",
        "\n",
        "      ## .strip() : ' 345 ' -> '345' retira os espaços\n",
        "      linha_dados['paper_id'] = data['paper_id'].strip()\n",
        "      linha_dados['title'] = data['metadata']['title'].strip()\n",
        "\n",
        "      abstract_list = [abstract['text'] for abstract in data['abstract']]\n",
        "      abstract = '\\n'.join(abstract_list)\n",
        "      linha_dados['abstract'] = abstract.strip()\n",
        "\n",
        "      text_list = [text['text'] for text in data['body_text']]\n",
        "      text = '\\n'.join(text_list)\n",
        "      linha_dados['text'] = text.strip()\n",
        "\n",
        "      df = df.append(linha_dados, ignore_index = True)\n",
        "  return df"
      ],
      "execution_count": 54,
      "outputs": []
    },
    {
      "cell_type": "code",
      "metadata": {
        "id": "EuGChutx9IKJ",
        "colab_type": "code",
        "colab": {}
      },
      "source": [
        "corona_df = retorna_corona_df(json_filenames, corona_df)"
      ],
      "execution_count": 55,
      "outputs": []
    },
    {
      "cell_type": "code",
      "metadata": {
        "id": "a-7gYTIRfmmD",
        "colab_type": "code",
        "colab": {}
      },
      "source": [
        "corona_df2 = corona_df[['paper_id', 'title', 'abstract', 'text']] ## criando um back-up do DataFrame\n"
      ],
      "execution_count": 56,
      "outputs": []
    },
    {
      "cell_type": "code",
      "metadata": {
        "id": "dXtPL3LzbBYJ",
        "colab_type": "code",
        "colab": {}
      },
      "source": [
        "#corona_df.drop(corona_df.tail(29315).index,inplace=True) # remove as ultimas linhas"
      ],
      "execution_count": 19,
      "outputs": []
    },
    {
      "cell_type": "code",
      "metadata": {
        "id": "e_oRTN7Rbzsc",
        "colab_type": "code",
        "colab": {}
      },
      "source": [
        "#corona_df.drop(corona_df.head(2).index,inplace=True) # drop first 2 rows"
      ],
      "execution_count": 20,
      "outputs": []
    },
    {
      "cell_type": "code",
      "metadata": {
        "id": "4Px975LyMOoq",
        "colab_type": "code",
        "colab": {
          "base_uri": "https://localhost:8080/",
          "height": 35
        },
        "outputId": "6cc7540d-a1f3-4013-d87f-f635d4c7493b"
      },
      "source": [
        "corona_df.shape"
      ],
      "execution_count": 57,
      "outputs": [
        {
          "output_type": "execute_result",
          "data": {
            "text/plain": [
              "(29315, 4)"
            ]
          },
          "metadata": {
            "tags": []
          },
          "execution_count": 57
        }
      ]
    },
    {
      "cell_type": "code",
      "metadata": {
        "id": "1Q3Ei9z6gb_o",
        "colab_type": "code",
        "colab": {
          "base_uri": "https://localhost:8080/",
          "height": 35
        },
        "outputId": "d4504eba-c292-4ffe-8e57-898490cc560b"
      },
      "source": [
        "corona_df2.shape"
      ],
      "execution_count": 22,
      "outputs": [
        {
          "output_type": "execute_result",
          "data": {
            "text/plain": [
              "(29315, 4)"
            ]
          },
          "metadata": {
            "tags": []
          },
          "execution_count": 22
        }
      ]
    },
    {
      "cell_type": "code",
      "metadata": {
        "id": "Q8wEcEru5Caf",
        "colab_type": "code",
        "colab": {}
      },
      "source": [
        "corona_df.tail() ## Mostra os últimas 5 linhas do Dataframe corona_df"
      ],
      "execution_count": null,
      "outputs": []
    },
    {
      "cell_type": "code",
      "metadata": {
        "id": "uAK2a2Vp5MDr",
        "colab_type": "code",
        "colab": {}
      },
      "source": [
        "## Verificando a coluna tíítulo (title) do último registro (29314) do Dataframe\n",
        "corona_df['title'][29314] \n"
      ],
      "execution_count": null,
      "outputs": []
    },
    {
      "cell_type": "code",
      "metadata": {
        "id": "946lWuD_dzOw",
        "colab_type": "code",
        "colab": {}
      },
      "source": [
        "corona_df['text'][2]  ## Verificando a coluna 'text' do Dataframe"
      ],
      "execution_count": null,
      "outputs": []
    },
    {
      "cell_type": "code",
      "metadata": {
        "id": "n9zGSqjWitbG",
        "colab_type": "code",
        "colab": {
          "base_uri": "https://localhost:8080/",
          "height": 35
        },
        "outputId": "9d0f9f11-e145-423a-94ff-1c45893ceefc"
      },
      "source": [
        "len(corona_df['text'][2]) ## Quantas palavras têm este texto [2]?"
      ],
      "execution_count": 64,
      "outputs": [
        {
          "output_type": "execute_result",
          "data": {
            "text/plain": [
              "36685"
            ]
          },
          "metadata": {
            "tags": []
          },
          "execution_count": 64
        }
      ]
    },
    {
      "cell_type": "markdown",
      "metadata": {
        "id": "JKFvomXzjP2Q",
        "colab_type": "text"
      },
      "source": [
        "**PERPROCESSAMENTO DE TEXTOS DOS ARTIGOS**\n",
        "<PROCURANDO POR DADOS FALTANTES>"
      ]
    },
    {
      "cell_type": "code",
      "metadata": {
        "id": "0qNTsUi4kBHI",
        "colab_type": "code",
        "colab": {}
      },
      "source": [
        "sns.heatmap(corona_df.isnull()); ## procurando dados faltantes pelo mapa de calor"
      ],
      "execution_count": null,
      "outputs": []
    },
    {
      "cell_type": "code",
      "metadata": {
        "id": "avSheKFTlHAB",
        "colab_type": "code",
        "colab": {
          "base_uri": "https://localhost:8080/",
          "height": 35
        },
        "outputId": "2209e8aa-b693-4912-cc4d-d4245ee1cda3"
      },
      "source": [
        "len(corona_df[corona_df['paper_id'] == '']) # procurando por espaços vazios"
      ],
      "execution_count": 66,
      "outputs": [
        {
          "output_type": "execute_result",
          "data": {
            "text/plain": [
              "0"
            ]
          },
          "metadata": {
            "tags": []
          },
          "execution_count": 66
        }
      ]
    },
    {
      "cell_type": "code",
      "metadata": {
        "id": "d9U3fNPwlWdP",
        "colab_type": "code",
        "colab": {
          "base_uri": "https://localhost:8080/",
          "height": 35
        },
        "outputId": "2c1d1a22-ddcb-400f-c15e-033f1de8b1f3"
      },
      "source": [
        "len(corona_df[corona_df['title'] == '']) # procurando por espaços vazios nos tíítulos"
      ],
      "execution_count": 67,
      "outputs": [
        {
          "output_type": "execute_result",
          "data": {
            "text/plain": [
              "3583"
            ]
          },
          "metadata": {
            "tags": []
          },
          "execution_count": 67
        }
      ]
    },
    {
      "cell_type": "code",
      "metadata": {
        "id": "Qb4SszdOlkqn",
        "colab_type": "code",
        "colab": {
          "base_uri": "https://localhost:8080/",
          "height": 35
        },
        "outputId": "58f8e00a-62a2-468a-e474-ee9e184a37b4"
      },
      "source": [
        "len(corona_df[corona_df['abstract'] == '']) # procurando por espaços vazios nos abstracts"
      ],
      "execution_count": 68,
      "outputs": [
        {
          "output_type": "execute_result",
          "data": {
            "text/plain": [
              "8051"
            ]
          },
          "metadata": {
            "tags": []
          },
          "execution_count": 68
        }
      ]
    },
    {
      "cell_type": "code",
      "metadata": {
        "id": "zzQRIZLklskU",
        "colab_type": "code",
        "colab": {
          "base_uri": "https://localhost:8080/",
          "height": 35
        },
        "outputId": "4563e63e-3140-4211-e64f-33ef007b8e27"
      },
      "source": [
        "len(corona_df[corona_df['text'] == '']) # procurando por espaços vazios nos textos"
      ],
      "execution_count": 32,
      "outputs": [
        {
          "output_type": "execute_result",
          "data": {
            "text/plain": [
              "0"
            ]
          },
          "metadata": {
            "tags": []
          },
          "execution_count": 32
        }
      ]
    },
    {
      "cell_type": "code",
      "metadata": {
        "id": "DhJo_65rl4xM",
        "colab_type": "code",
        "colab": {}
      },
      "source": [
        "corona_df = corona_df[corona_df['title'] != ''] ## apagando os artigos sem tíítulos"
      ],
      "execution_count": 69,
      "outputs": []
    },
    {
      "cell_type": "code",
      "metadata": {
        "id": "aH8Qi-1kmUEO",
        "colab_type": "code",
        "colab": {}
      },
      "source": [
        "corona_df = corona_df[corona_df['abstract'] != ''] ## apagando os artigos sem abstract"
      ],
      "execution_count": 72,
      "outputs": []
    },
    {
      "cell_type": "markdown",
      "metadata": {
        "id": "PxNzJd_An8h9",
        "colab_type": "text"
      },
      "source": [
        "**REMOVENDO ARTIGOS DUPLICADOS**"
      ]
    },
    {
      "cell_type": "code",
      "metadata": {
        "id": "ZmfKkpEZn7zr",
        "colab_type": "code",
        "colab": {}
      },
      "source": [
        "corona_df.drop_duplicates(['abstract', 'text', 'title'], inplace=True)"
      ],
      "execution_count": 76,
      "outputs": []
    },
    {
      "cell_type": "code",
      "metadata": {
        "id": "KpJJEEL2my02",
        "colab_type": "code",
        "colab": {}
      },
      "source": [
        "corona_df_bck = corona_df  ## reafzendo tudo porra!!"
      ],
      "execution_count": 77,
      "outputs": []
    },
    {
      "cell_type": "code",
      "metadata": {
        "id": "f4sP7V24mbMM",
        "colab_type": "code",
        "colab": {
          "base_uri": "https://localhost:8080/",
          "height": 35
        },
        "outputId": "35f7f65a-1b1e-4c49-d240-3b14bb6c67b9"
      },
      "source": [
        "corona_df.shape ## o que sobrou após a limpeza??"
      ],
      "execution_count": 78,
      "outputs": [
        {
          "output_type": "execute_result",
          "data": {
            "text/plain": [
              "(20211, 4)"
            ]
          },
          "metadata": {
            "tags": []
          },
          "execution_count": 78
        }
      ]
    },
    {
      "cell_type": "code",
      "metadata": {
        "id": "ncK0djuIoacK",
        "colab_type": "code",
        "colab": {
          "base_uri": "https://localhost:8080/",
          "height": 35
        },
        "outputId": "684fd2f8-6d48-4091-9421-1db8f4233421"
      },
      "source": [
        "corona_df_bck.shape  ## vendo quem mandou 2 ou mais vezes o mesmo artigo - ahaha"
      ],
      "execution_count": 79,
      "outputs": [
        {
          "output_type": "execute_result",
          "data": {
            "text/plain": [
              "(20211, 4)"
            ]
          },
          "metadata": {
            "tags": []
          },
          "execution_count": 79
        }
      ]
    },
    {
      "cell_type": "markdown",
      "metadata": {
        "id": "vLXNZbbDqknD",
        "colab_type": "text"
      },
      "source": [
        "**BASE DE DADOS DE AMOSTRA**\n"
      ]
    },
    {
      "cell_type": "code",
      "metadata": {
        "id": "pYdixkoLqswc",
        "colab_type": "code",
        "colab": {}
      },
      "source": [
        "corona_df = corona_df.sample(n = 500, random_state=1)"
      ],
      "execution_count": 80,
      "outputs": []
    },
    {
      "cell_type": "code",
      "metadata": {
        "id": "BEx2uan6q75n",
        "colab_type": "code",
        "colab": {
          "base_uri": "https://localhost:8080/",
          "height": 35
        },
        "outputId": "013c9ac7-59ad-4e9a-916e-b22c7c7d3221"
      },
      "source": [
        "corona_df.shape"
      ],
      "execution_count": 81,
      "outputs": [
        {
          "output_type": "execute_result",
          "data": {
            "text/plain": [
              "(500, 4)"
            ]
          },
          "metadata": {
            "tags": []
          },
          "execution_count": 81
        }
      ]
    },
    {
      "cell_type": "code",
      "metadata": {
        "id": "_kprMMp0rAau",
        "colab_type": "code",
        "colab": {}
      },
      "source": [
        "corona_df.head()"
      ],
      "execution_count": null,
      "outputs": []
    },
    {
      "cell_type": "code",
      "metadata": {
        "id": "iHYk88WIrK6V",
        "colab_type": "code",
        "colab": {}
      },
      "source": [
        "corona_df.tail()"
      ],
      "execution_count": null,
      "outputs": []
    },
    {
      "cell_type": "code",
      "metadata": {
        "id": "AAMrF_p157i4",
        "colab_type": "code",
        "colab": {}
      },
      "source": [
        "## Visual Text analisys\n",
        "sample_text = corona_df['text'][23192]\n",
        "sample_text"
      ],
      "execution_count": null,
      "outputs": []
    },
    {
      "cell_type": "markdown",
      "metadata": {
        "id": "b9gphVNR6-jE",
        "colab_type": "text"
      },
      "source": [
        "**FUNÇÃO PARA PREPROCESSAMENTO**\n"
      ]
    },
    {
      "cell_type": "code",
      "metadata": {
        "id": "dHJtPzdeoCfu",
        "colab_type": "code",
        "colab": {}
      },
      "source": [
        "#nlp = spacy.load('en')\n",
        "#nlp = spacy.load('en_core_sci_md')\n",
        "nlp = en_core_sci_md.load(disable=['tagger', 'parser', 'ner'])\n",
        "\n",
        "nlp.max_length = 2000000"
      ],
      "execution_count": 85,
      "outputs": []
    },
    {
      "cell_type": "code",
      "metadata": {
        "id": "cg3aw3sNwQGV",
        "colab_type": "code",
        "colab": {}
      },
      "source": [
        "#print('scispacy:', scispacy.__version__, \" - \", \"spacy:\", spacy.__version__)\n",
        "#!stopwnltk = nltk.corpus.stopwords.words(\"english\")"
      ],
      "execution_count": null,
      "outputs": []
    },
    {
      "cell_type": "code",
      "metadata": {
        "id": "R4mL92yMPeWj",
        "colab_type": "code",
        "colab": {}
      },
      "source": [
        "print(spacy.lang.en.stop_words.STOP_WORDS)"
      ],
      "execution_count": null,
      "outputs": []
    },
    {
      "cell_type": "code",
      "metadata": {
        "id": "RP0KB8GUXK76",
        "colab_type": "code",
        "colab": {
          "base_uri": "https://localhost:8080/",
          "height": 35
        },
        "outputId": "f8ecae05-1aa1-4375-9f55-2af705a31b2c"
      },
      "source": [
        "len(spacy.lang.en.stop_words.STOP_WORDS)"
      ],
      "execution_count": 90,
      "outputs": [
        {
          "output_type": "execute_result",
          "data": {
            "text/plain": [
              "326"
            ]
          },
          "metadata": {
            "tags": []
          },
          "execution_count": 90
        }
      ]
    },
    {
      "cell_type": "code",
      "metadata": {
        "id": "RPdYkcZSP6BF",
        "colab_type": "code",
        "colab": {}
      },
      "source": [
        "def spacy_tokenizer(sentence):\n",
        "  sentence = sentence.lower() ## coloca tudo em minúsculo\n",
        "  list = [] \n",
        "  list = [word.lemma_ for word in nlp(sentence) if not (word.is_stop or ## disable=['tagger', 'parser', 'ner']\n",
        "                                                        word.like_num or\n",
        "                                                        word.is_punct or\n",
        "                                                        word.is_space)] \n",
        "  lsit = ' ' .join([str(element) for element in list])\n",
        "\n",
        "  return list"
      ],
      "execution_count": 144,
      "outputs": []
    },
    {
      "cell_type": "code",
      "metadata": {
        "id": "vNrl6Bk1Xos5",
        "colab_type": "code",
        "colab": {}
      },
      "source": [
        "test = sample_text\n",
        "result = spacy_tokenizer(test)\n",
        "result"
      ],
      "execution_count": null,
      "outputs": []
    },
    {
      "cell_type": "code",
      "metadata": {
        "id": "2yZ2gcRAZ4SY",
        "colab_type": "code",
        "colab": {}
      },
      "source": [
        "token_list = []\n",
        "## junta as palavras numa mesma linha\n",
        "def join_sentences(textos):\n",
        "  token_list = ' '.join([token_list for token_list in textos])\n",
        "  return token_list"
      ],
      "execution_count": 142,
      "outputs": []
    },
    {
      "cell_type": "code",
      "metadata": {
        "id": "qeQ2I0XWfGUv",
        "colab_type": "code",
        "colab": {}
      },
      "source": [
        "sample_text"
      ],
      "execution_count": null,
      "outputs": []
    },
    {
      "cell_type": "code",
      "metadata": {
        "id": "jcTltbmIdMHd",
        "colab_type": "code",
        "colab": {}
      },
      "source": [
        "test = '1 ' + sample_text\n",
        "result = join_sentences(spacy_tokenizer(test))\n",
        "result"
      ],
      "execution_count": null,
      "outputs": []
    },
    {
      "cell_type": "code",
      "metadata": {
        "id": "1r6KtHm6JjI_",
        "colab_type": "code",
        "colab": {}
      },
      "source": [
        "corona_df['text'] = corona_df['text'].apply(join_sentences) #  spacy_tokenizer"
      ],
      "execution_count": 184,
      "outputs": []
    },
    {
      "cell_type": "code",
      "metadata": {
        "id": "mdr3tu5mKAgE",
        "colab_type": "code",
        "colab": {}
      },
      "source": [
        "print(sample_text)"
      ],
      "execution_count": null,
      "outputs": []
    },
    {
      "cell_type": "code",
      "metadata": {
        "id": "gOSbE-RLKWdx",
        "colab_type": "code",
        "colab": {
          "base_uri": "https://localhost:8080/",
          "height": 35
        },
        "outputId": "dc5ddc5f-4fe5-4d66-90b5-1c6cf7bf3c3b"
      },
      "source": [
        "len(sample_text)"
      ],
      "execution_count": 185,
      "outputs": [
        {
          "output_type": "execute_result",
          "data": {
            "text/plain": [
              "15149"
            ]
          },
          "metadata": {
            "tags": []
          },
          "execution_count": 185
        }
      ]
    },
    {
      "cell_type": "code",
      "metadata": {
        "id": "EOM56kSfKa0-",
        "colab_type": "code",
        "colab": {}
      },
      "source": [
        "print(corona_df['text'][23192])"
      ],
      "execution_count": null,
      "outputs": []
    },
    {
      "cell_type": "code",
      "metadata": {
        "id": "PXL9wv4wme1l",
        "colab_type": "code",
        "colab": {
          "base_uri": "https://localhost:8080/",
          "height": 35
        },
        "outputId": "a6406ce8-452e-49c7-c824-4b7b667cc8ea"
      },
      "source": [
        "len(corona_df['text'][23192])"
      ],
      "execution_count": 151,
      "outputs": [
        {
          "output_type": "execute_result",
          "data": {
            "text/plain": [
              "1271"
            ]
          },
          "metadata": {
            "tags": []
          },
          "execution_count": 151
        }
      ]
    },
    {
      "cell_type": "code",
      "metadata": {
        "id": "bvBo_P8xm9FO",
        "colab_type": "code",
        "colab": {}
      },
      "source": [
        "for index, row in corona_df.iterrows():\n",
        "  print(row['paper_id'], row['title']) # index mostra o índice de cada artigo\n",
        "  text_file = open('corpus/' + row['paper_id'] + '.txt', 'w')\n",
        "  n = text_file.write(str(row['text']))\n",
        "  text_file.close()"
      ],
      "execution_count": null,
      "outputs": []
    },
    {
      "cell_type": "markdown",
      "metadata": {
        "id": "3Aoy7kJIryOm",
        "colab_type": "text"
      },
      "source": [
        "A função PlaintextCorpusReader vai ler as frases como corpus\n",
        "de todos os (agora) txt que estão na novo diretório \"corpus/\"\n"
      ]
    },
    {
      "cell_type": "markdown",
      "metadata": {
        "id": "Is-OJO2FryE2",
        "colab_type": "text"
      },
      "source": [
        ""
      ]
    },
    {
      "cell_type": "code",
      "metadata": {
        "id": "HFeyT05JrQ85",
        "colab_type": "code",
        "colab": {}
      },
      "source": [
        "from nltk.corpus import PlaintextCorpusReader\n",
        "corpus = PlaintextCorpusReader('corpus', '.*')"
      ],
      "execution_count": 187,
      "outputs": []
    },
    {
      "cell_type": "code",
      "metadata": {
        "id": "Fo6exZGGrqWX",
        "colab_type": "code",
        "colab": {}
      },
      "source": [
        "files = corpus.fileids() # visualizer se os aruivos foram criados\n",
        "files[0]"
      ],
      "execution_count": null,
      "outputs": []
    },
    {
      "cell_type": "code",
      "metadata": {
        "id": "kAc29vUCslQX",
        "colab_type": "code",
        "colab": {}
      },
      "source": [
        "corpus.raw('00326efcca0852dc6e39dc6b7786267e1bc4f194.txt')"
      ],
      "execution_count": null,
      "outputs": []
    },
    {
      "cell_type": "code",
      "metadata": {
        "id": "buiL1GP1sWVv",
        "colab_type": "code",
        "colab": {}
      },
      "source": [
        "words = corpus.words()\n",
        "print(words)"
      ],
      "execution_count": null,
      "outputs": []
    },
    {
      "cell_type": "code",
      "metadata": {
        "id": "1wZH59yLL-o0",
        "colab_type": "code",
        "colab": {}
      },
      "source": [
        "from google.colab import drive\n",
        "drive.mount('/content/drive')"
      ],
      "execution_count": null,
      "outputs": []
    },
    {
      "cell_type": "code",
      "metadata": {
        "id": "ntSJotxVtbLL",
        "colab_type": "code",
        "colab": {
          "base_uri": "https://localhost:8080/",
          "height": 35
        },
        "outputId": "c3df8ffc-6deb-4b20-9d3f-4d94128ffa26"
      },
      "source": [
        "len(words)"
      ],
      "execution_count": 173,
      "outputs": [
        {
          "output_type": "execute_result",
          "data": {
            "text/plain": [
              "3739523"
            ]
          },
          "metadata": {
            "tags": []
          },
          "execution_count": 173
        }
      ]
    },
    {
      "cell_type": "code",
      "metadata": {
        "id": "PXGu57Wftky7",
        "colab_type": "code",
        "colab": {}
      },
      "source": [
        "frequenc = nltk.FreqDist(words)\n",
        "most_common = frequenc.most_common(100) # palavras mais comuns\n",
        "most_common"
      ],
      "execution_count": null,
      "outputs": []
    },
    {
      "cell_type": "markdown",
      "metadata": {
        "id": "8c81crHeuR-s",
        "colab_type": "text"
      },
      "source": [
        "**NUVEM DE PALAVRAS**"
      ]
    },
    {
      "cell_type": "code",
      "metadata": {
        "id": "44iLwrZRuYNO",
        "colab_type": "code",
        "colab": {}
      },
      "source": [
        "from matplotlib.colors import ListedColormap\n",
        "color_map = ListedColormap(['orange', 'green', 'red', 'magents'])"
      ],
      "execution_count": 175,
      "outputs": []
    },
    {
      "cell_type": "code",
      "metadata": {
        "id": "B8-lktQ4uw-d",
        "colab_type": "code",
        "colab": {}
      },
      "source": [
        "from wordcloud import WordCloud\n",
        "cloud = WordCloud(background_color = 'white', max_words = 100, colormap = color_map)"
      ],
      "execution_count": 177,
      "outputs": []
    },
    {
      "cell_type": "code",
      "metadata": {
        "id": "_ZKEj2rxvLps",
        "colab_type": "code",
        "colab": {}
      },
      "source": [
        "cloud = cloud.generate(corona_df['text'].str.cat(sep = '\\n'))\n",
        "plt.figure(figsize=(15,15))\n",
        "plt.axix('off')\n",
        "plt.imshow(cloud)\n",
        "plt.show()"
      ],
      "execution_count": null,
      "outputs": []
    }
  ]
}