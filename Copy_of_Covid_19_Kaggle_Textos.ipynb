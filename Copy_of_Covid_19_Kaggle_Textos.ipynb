{
  "nbformat": 4,
  "nbformat_minor": 0,
  "metadata": {
    "colab": {
      "name": "Copy of Covid-19 - Kaggle Textos.ipynb",
      "provenance": [],
      "collapsed_sections": [],
      "include_colab_link": true
    },
    "kernelspec": {
      "name": "python3",
      "display_name": "Python 3"
    },
    "accelerator": "TPU"
  },
  "cells": [
    {
      "cell_type": "markdown",
      "metadata": {
        "id": "view-in-github",
        "colab_type": "text"
      },
      "source": [
        "<a href=\"https://colab.research.google.com/github/otluiz/Covid-19_kaggle/blob/master/Copy_of_Covid_19_Kaggle_Textos.ipynb\" target=\"_parent\"><img src=\"https://colab.research.google.com/assets/colab-badge.svg\" alt=\"Open In Colab\"/></a>"
      ]
    },
    {
      "cell_type": "code",
      "metadata": {
        "id": "-hMn8kIB_fB5",
        "colab_type": "code",
        "colab": {}
      },
      "source": [
        "import numpy as np\n",
        "import zipfile\n",
        "import pandas as pd\n",
        "import glob\n",
        "import json\n",
        "import seaborn as sns\n",
        "import spacy\n",
        "import nltk\n",
        "from IPython.core.display import HTML\n",
        "from matplotlib import pyplot as plt"
      ],
      "execution_count": 44,
      "outputs": []
    },
    {
      "cell_type": "code",
      "metadata": {
        "id": "HP3IfLkI_3zM",
        "colab_type": "code",
        "colab": {}
      },
      "source": [
        "#!pip install -U spacy\n",
        "#!python -m spacy download en\n",
        "#!pip install scispacy\n",
        "import scispacy\n",
        "!pip install https://s3-us-west-2.amazonaws.com/ai2-s2-scispacy/releases/v0.2.5/en_core_sci_md-0.2.5.tar.gz\n",
        "import en_core_sci_md\n",
        "import zipfile"
      ],
      "execution_count": null,
      "outputs": []
    },
    {
      "cell_type": "markdown",
      "metadata": {
        "id": "ZAHqiASIJMqR",
        "colab_type": "text"
      },
      "source": [
        "Chama os drives da Google e monta um novo diretório neste 'notebook'. Precisa de uma conexão (URL) onde a Google gera uma 'auth' para entrar no meu Google Drive"
      ]
    },
    {
      "cell_type": "markdown",
      "metadata": {
        "id": "KxwNIFyBCBC1",
        "colab_type": "text"
      },
      "source": [
        "First, you'll need to mount your Drive."
      ]
    },
    {
      "cell_type": "code",
      "metadata": {
        "id": "prUMpfLaB-D7",
        "colab_type": "code",
        "colab": {
          "base_uri": "https://localhost:8080/",
          "height": 55
        },
        "outputId": "c1735f35-bef5-4b46-9895-59a9a494e2ae"
      },
      "source": [
        "from google.colab import drive\n",
        "drive.mount('/content/gdrive')"
      ],
      "execution_count": 46,
      "outputs": [
        {
          "output_type": "stream",
          "text": [
            "Drive already mounted at /content/gdrive; to attempt to forcibly remount, call drive.mount(\"/content/gdrive\", force_remount=True).\n"
          ],
          "name": "stdout"
        }
      ]
    },
    {
      "cell_type": "markdown",
      "metadata": {
        "id": "4SkYZjxaIl_9",
        "colab_type": "text"
      },
      "source": [
        "Conecta ao diretório do meu Google Drive onde estão os dados da Covid-19 que está compactado.\n",
        "Será descompactado (unzip) no meu Google Drive\n"
      ]
    },
    {
      "cell_type": "code",
      "metadata": {
        "id": "bC9VFHaC9PQA",
        "colab_type": "code",
        "colab": {}
      },
      "source": [
        "path = '/content/gdrive/My Drive/CORD-19-research-challenge.zip'\n",
        "from zipfile import *\n",
        "zip_object = zipfile.ZipFile(file=path, mode='r')\n",
        "zip_object.extractall('./')\n",
        "zip_object.close()"
      ],
      "execution_count": 47,
      "outputs": []
    },
    {
      "cell_type": "code",
      "metadata": {
        "id": "Hyv83jfKotlY",
        "colab_type": "code",
        "colab": {}
      },
      "source": [
        ""
      ],
      "execution_count": null,
      "outputs": []
    },
    {
      "cell_type": "markdown",
      "metadata": {
        "id": "0Mz-iWVcIbbo",
        "colab_type": "text"
      },
      "source": [
        "Criação do DataFrame com os textos dos artigos\n"
      ]
    },
    {
      "cell_type": "markdown",
      "metadata": {
        "id": "pvQ11GtKLHwG",
        "colab_type": "text"
      },
      "source": [
        "DataFrame no formato JSON"
      ]
    },
    {
      "cell_type": "code",
      "metadata": {
        "id": "8uA_oEib9F0G",
        "colab_type": "code",
        "colab": {}
      },
      "source": [
        "features_corona = {'paper_id': [],\n",
        "                   'title' : [],\n",
        "                   'abstract' : [],\n",
        "                   'text' : []}"
      ],
      "execution_count": 48,
      "outputs": []
    },
    {
      "cell_type": "markdown",
      "metadata": {
        "id": "UwDHhcF5LzZC",
        "colab_type": "text"
      },
      "source": [
        "Testando o tipo \"features_corona\"\n"
      ]
    },
    {
      "cell_type": "code",
      "metadata": {
        "id": "74qx4Z-NL861",
        "colab_type": "code",
        "colab": {
          "base_uri": "https://localhost:8080/",
          "height": 35
        },
        "outputId": "949daab6-d32f-494b-a30d-4b4c40c4ea23"
      },
      "source": [
        "type (features_corona)"
      ],
      "execution_count": 10,
      "outputs": [
        {
          "output_type": "execute_result",
          "data": {
            "text/plain": [
              "dict"
            ]
          },
          "metadata": {
            "tags": []
          },
          "execution_count": 10
        }
      ]
    },
    {
      "cell_type": "markdown",
      "metadata": {
        "id": "3ZuBhy04MKpk",
        "colab_type": "text"
      },
      "source": [
        "Transformar o tipo dict em dataframe\n"
      ]
    },
    {
      "cell_type": "code",
      "metadata": {
        "id": "iMPS1eYxMlyr",
        "colab_type": "code",
        "colab": {}
      },
      "source": [
        "corona_df = pd.DataFrame.from_dict(features_corona)"
      ],
      "execution_count": 49,
      "outputs": []
    },
    {
      "cell_type": "markdown",
      "metadata": {
        "id": "QQLm19DkOkOT",
        "colab_type": "text"
      },
      "source": [
        "Verificando o novo tipo"
      ]
    },
    {
      "cell_type": "code",
      "metadata": {
        "id": "SRFbBJRKOhaf",
        "colab_type": "code",
        "colab": {
          "base_uri": "https://localhost:8080/",
          "height": 35
        },
        "outputId": "dc3f7b43-5962-4848-8d9c-118b8590401c"
      },
      "source": [
        "type (corona_df)"
      ],
      "execution_count": 50,
      "outputs": [
        {
          "output_type": "execute_result",
          "data": {
            "text/plain": [
              "pandas.core.frame.DataFrame"
            ]
          },
          "metadata": {
            "tags": []
          },
          "execution_count": 50
        }
      ]
    },
    {
      "cell_type": "markdown",
      "metadata": {
        "id": "ADWfkbmUOwxb",
        "colab_type": "text"
      },
      "source": [
        "Pandas é o \"default for Machine Learning in Python projects\"\n"
      ]
    },
    {
      "cell_type": "code",
      "metadata": {
        "id": "43bgvaq6PgDI",
        "colab_type": "code",
        "colab": {}
      },
      "source": [
        "corona_df.head()"
      ],
      "execution_count": null,
      "outputs": []
    },
    {
      "cell_type": "markdown",
      "metadata": {
        "id": "fbK2PoyLPoMN",
        "colab_type": "text"
      },
      "source": [
        "Ler os arquivos JSON a partir da raiz '/' para popular o futuro dataframe (corona_df) a ser criado mais adiante\n"
      ]
    },
    {
      "cell_type": "code",
      "metadata": {
        "id": "aqsYMynlPm_d",
        "colab_type": "code",
        "colab": {}
      },
      "source": [
        "json_filenames = glob.glob(f'{\"./\"}//**/*.json', recursive = True)\n",
        "print(json_filenames)"
      ],
      "execution_count": null,
      "outputs": []
    },
    {
      "cell_type": "code",
      "metadata": {
        "id": "1o08_XtnUifm",
        "colab_type": "code",
        "colab": {
          "base_uri": "https://localhost:8080/",
          "height": 35
        },
        "outputId": "a1b5a302-a03e-4241-f3c6-741098fda943"
      },
      "source": [
        "json_filenames)"
      ],
      "execution_count": 53,
      "outputs": [
        {
          "output_type": "execute_result",
          "data": {
            "text/plain": [
              "29316"
            ]
          },
          "metadata": {
            "tags": []
          },
          "execution_count": 53
        }
      ]
    },
    {
      "cell_type": "markdown",
      "metadata": {
        "id": "BeNmqDb64jyu",
        "colab_type": "text"
      },
      "source": [
        "Cada arquivo JSON seráá uma linha do dataframe, populando assim o corona_df\n"
      ]
    },
    {
      "cell_type": "code",
      "metadata": {
        "id": "LZqlI2yH5SdH",
        "colab_type": "code",
        "colab": {}
      },
      "source": [
        "def retorna_corona_df(json_filenames, df):\n",
        "  for file_name in json_filenames:\n",
        "    linha_dados = {'paper_id': None, 'title': None, 'abstract': None, 'text': None}\n",
        "\n",
        "    with open(file_name) as json_data:\n",
        "      if file_name == './sample_data/anscombe.json': # ignora os anscombe.json\n",
        "        continue\n",
        "      #if file_name == './MeuMestrado/ProjetoGeolocalização/node_modules/gulp/node_modules/tildify/*.json': \n",
        "      #  continue\n",
        "\n",
        "      data = json.load(json_data)\n",
        "\n",
        "      ## .strip() : ' 345 ' -> '345' retira os espaços\n",
        "      linha_dados['paper_id'] = data['paper_id'].strip()\n",
        "      linha_dados['title'] = data['metadata']['title'].strip()\n",
        "\n",
        "      abstract_list = [abstract['text'] for abstract in data['abstract']]\n",
        "      abstract = '\\n'.join(abstract_list)\n",
        "      linha_dados['abstract'] = abstract.strip()\n",
        "\n",
        "      text_list = [text['text'] for text in data['body_text']]\n",
        "      text = '\\n'.join(text_list)\n",
        "      linha_dados['text'] = text.strip()\n",
        "\n",
        "      df = df.append(linha_dados, ignore_index = True)\n",
        "  return df"
      ],
      "execution_count": 54,
      "outputs": []
    },
    {
      "cell_type": "code",
      "metadata": {
        "id": "EuGChutx9IKJ",
        "colab_type": "code",
        "colab": {}
      },
      "source": [
        "corona_df = retorna_corona_df(json_filenames, corona_df)"
      ],
      "execution_count": 55,
      "outputs": []
    },
    {
      "cell_type": "code",
      "metadata": {
        "id": "a-7gYTIRfmmD",
        "colab_type": "code",
        "colab": {}
      },
      "source": [
        "corona_df2 = corona_df[['paper_id', 'title', 'abstract', 'text']] ## criando um back-up do DataFrame\n"
      ],
      "execution_count": 56,
      "outputs": []
    },
    {
      "cell_type": "code",
      "metadata": {
        "id": "dXtPL3LzbBYJ",
        "colab_type": "code",
        "colab": {}
      },
      "source": [
        "#corona_df.drop(corona_df.tail(29315).index,inplace=True) # remove as ultimas linhas"
      ],
      "execution_count": 19,
      "outputs": []
    },
    {
      "cell_type": "code",
      "metadata": {
        "id": "e_oRTN7Rbzsc",
        "colab_type": "code",
        "colab": {}
      },
      "source": [
        "#corona_df.drop(corona_df.head(2).index,inplace=True) # drop first 2 rows"
      ],
      "execution_count": 20,
      "outputs": []
    },
    {
      "cell_type": "code",
      "metadata": {
        "id": "4Px975LyMOoq",
        "colab_type": "code",
        "colab": {
          "base_uri": "https://localhost:8080/",
          "height": 35
        },
        "outputId": "6cc7540d-a1f3-4013-d87f-f635d4c7493b"
      },
      "source": [
        "corona_df.shape"
      ],
      "execution_count": 57,
      "outputs": [
        {
          "output_type": "execute_result",
          "data": {
            "text/plain": [
              "(29315, 4)"
            ]
          },
          "metadata": {
            "tags": []
          },
          "execution_count": 57
        }
      ]
    },
    {
      "cell_type": "code",
      "metadata": {
        "id": "1Q3Ei9z6gb_o",
        "colab_type": "code",
        "colab": {
          "base_uri": "https://localhost:8080/",
          "height": 35
        },
        "outputId": "d4504eba-c292-4ffe-8e57-898490cc560b"
      },
      "source": [
        "corona_df2.shape"
      ],
      "execution_count": 22,
      "outputs": [
        {
          "output_type": "execute_result",
          "data": {
            "text/plain": [
              "(29315, 4)"
            ]
          },
          "metadata": {
            "tags": []
          },
          "execution_count": 22
        }
      ]
    },
    {
      "cell_type": "code",
      "metadata": {
        "id": "Q8wEcEru5Caf",
        "colab_type": "code",
        "colab": {}
      },
      "source": [
        "corona_df.tail() ## Mostra os últimas 5 linhas do Dataframe corona_df"
      ],
      "execution_count": null,
      "outputs": []
    },
    {
      "cell_type": "code",
      "metadata": {
        "id": "uAK2a2Vp5MDr",
        "colab_type": "code",
        "colab": {}
      },
      "source": [
        "## Verificando a coluna tíítulo (title) do último registro (29314) do Dataframe\n",
        "corona_df['title'][29314] \n"
      ],
      "execution_count": null,
      "outputs": []
    },
    {
      "cell_type": "code",
      "metadata": {
        "id": "946lWuD_dzOw",
        "colab_type": "code",
        "colab": {}
      },
      "source": [
        "corona_df['text'][2]  ## Verificando a coluna 'text' do Dataframe"
      ],
      "execution_count": null,
      "outputs": []
    },
    {
      "cell_type": "code",
      "metadata": {
        "id": "n9zGSqjWitbG",
        "colab_type": "code",
        "colab": {
          "base_uri": "https://localhost:8080/",
          "height": 35
        },
        "outputId": "9d0f9f11-e145-423a-94ff-1c45893ceefc"
      },
      "source": [
        "len(corona_df['text'][2]) ## Quantas palavras têm este texto [2]?"
      ],
      "execution_count": 64,
      "outputs": [
        {
          "output_type": "execute_result",
          "data": {
            "text/plain": [
              "36685"
            ]
          },
          "metadata": {
            "tags": []
          },
          "execution_count": 64
        }
      ]
    },
    {
      "cell_type": "markdown",
      "metadata": {
        "id": "JKFvomXzjP2Q",
        "colab_type": "text"
      },
      "source": [
        "**PERPROCESSAMENTO DE TEXTOS DOS ARTIGOS**\n",
        "<PROCURANDO POR DADOS FALTANTES>"
      ]
    },
    {
      "cell_type": "code",
      "metadata": {
        "id": "0qNTsUi4kBHI",
        "colab_type": "code",
        "colab": {
          "base_uri": "https://localhost:8080/",
          "height": 270
        },
        "outputId": "d326b824-e13d-42b9-d46c-8be791c0b0d0"
      },
      "source": [
        "sns.heatmap(corona_df.isnull()); ## procurando dados faltantes pelo mapa de calor"
      ],
      "execution_count": 65,
      "outputs": [
        {
          "output_type": "display_data",
          "data": {
            "image/png": "[encoded data removed]",
            "text/plain": [
              "<Figure size 432x288 with 2 Axes>"
            ]
          },
          "metadata": {
            "tags": [],
            "needs_background": "light"
          }
        }
      ]
    },
    {
      "cell_type": "code",
      "metadata": {
        "id": "avSheKFTlHAB",
        "colab_type": "code",
        "colab": {
          "base_uri": "https://localhost:8080/",
          "height": 35
        },
        "outputId": "2209e8aa-b693-4912-cc4d-d4245ee1cda3"
      },
      "source": [
        "len(corona_df[corona_df['paper_id'] == '']) # procurando por espaços vazios"
      ],
      "execution_count": 66,
      "outputs": [
        {
          "output_type": "execute_result",
          "data": {
            "text/plain": [
              "0"
            ]
          },
          "metadata": {
            "tags": []
          },
          "execution_count": 66
        }
      ]
    },
    {
      "cell_type": "code",
      "metadata": {
        "id": "d9U3fNPwlWdP",
        "colab_type": "code",
        "colab": {
          "base_uri": "https://localhost:8080/",
          "height": 35
        },
        "outputId": "2c1d1a22-ddcb-400f-c15e-033f1de8b1f3"
      },
      "source": [
        "len(corona_df[corona_df['title'] == '']) # procurando por espaços vazios nos tíítulos"
      ],
      "execution_count": 67,
      "outputs": [
        {
          "output_type": "execute_result",
          "data": {
            "text/plain": [
              "3583"
            ]
          },
          "metadata": {
            "tags": []
          },
          "execution_count": 67
        }
      ]
    },
    {
      "cell_type": "code",
      "metadata": {
        "id": "Qb4SszdOlkqn",
        "colab_type": "code",
        "colab": {
          "base_uri": "https://localhost:8080/",
          "height": 35
        },
        "outputId": "58f8e00a-62a2-468a-e474-ee9e184a37b4"
      },
      "source": [
        "len(corona_df[corona_df['abstract'] == '']) # procurando por espaços vazios nos abstracts"
      ],
      "execution_count": 68,
      "outputs": [
        {
          "output_type": "execute_result",
          "data": {
            "text/plain": [
              "8051"
            ]
          },
          "metadata": {
            "tags": []
          },
          "execution_count": 68
        }
      ]
    },
    {
      "cell_type": "code",
      "metadata": {
        "id": "zzQRIZLklskU",
        "colab_type": "code",
        "colab": {
          "base_uri": "https://localhost:8080/",
          "height": 35
        },
        "outputId": "4563e63e-3140-4211-e64f-33ef007b8e27"
      },
      "source": [
        "len(corona_df[corona_df['text'] == '']) # procurando por espaços vazios nos textos"
      ],
      "execution_count": 32,
      "outputs": [
        {
          "output_type": "execute_result",
          "data": {
            "text/plain": [
              "0"
            ]
          },
          "metadata": {
            "tags": []
          },
          "execution_count": 32
        }
      ]
    },
    {
      "cell_type": "code",
      "metadata": {
        "id": "DhJo_65rl4xM",
        "colab_type": "code",
        "colab": {}
      },
      "source": [
        "corona_df = corona_df[corona_df['title'] != ''] ## apagando os artigos sem tíítulos"
      ],
      "execution_count": 69,
      "outputs": []
    },
    {
      "cell_type": "code",
      "metadata": {
        "id": "aH8Qi-1kmUEO",
        "colab_type": "code",
        "colab": {}
      },
      "source": [
        "corona_df = corona_df[corona_df['abstract'] != ''] ## apagando os artigos sem abstract"
      ],
      "execution_count": 72,
      "outputs": []
    },
    {
      "cell_type": "markdown",
      "metadata": {
        "id": "PxNzJd_An8h9",
        "colab_type": "text"
      },
      "source": [
        "**REMOVENDO ARTIGOS DUPLICADOS**"
      ]
    },
    {
      "cell_type": "code",
      "metadata": {
        "id": "ZmfKkpEZn7zr",
        "colab_type": "code",
        "colab": {}
      },
      "source": [
        "corona_df.drop_duplicates(['abstract', 'text', 'title'], inplace=True)"
      ],
      "execution_count": 76,
      "outputs": []
    },
    {
      "cell_type": "code",
      "metadata": {
        "id": "KpJJEEL2my02",
        "colab_type": "code",
        "colab": {}
      },
      "source": [
        "corona_df_bck = corona_df  ## reafzendo tudo porra!!"
      ],
      "execution_count": 77,
      "outputs": []
    },
    {
      "cell_type": "code",
      "metadata": {
        "id": "f4sP7V24mbMM",
        "colab_type": "code",
        "colab": {
          "base_uri": "https://localhost:8080/",
          "height": 35
        },
        "outputId": "35f7f65a-1b1e-4c49-d240-3b14bb6c67b9"
      },
      "source": [
        "corona_df.shape ## o que sobrou após a limpeza??"
      ],
      "execution_count": 78,
      "outputs": [
        {
          "output_type": "execute_result",
          "data": {
            "text/plain": [
              "(20211, 4)"
            ]
          },
          "metadata": {
            "tags": []
          },
          "execution_count": 78
        }
      ]
    },
    {
      "cell_type": "code",
      "metadata": {
        "id": "ncK0djuIoacK",
        "colab_type": "code",
        "colab": {
          "base_uri": "https://localhost:8080/",
          "height": 35
        },
        "outputId": "684fd2f8-6d48-4091-9421-1db8f4233421"
      },
      "source": [
        "corona_df_bck.shape  ## vendo quem mandou 2 ou mais vezes o mesmo artigo - ahaha"
      ],
      "execution_count": 79,
      "outputs": [
        {
          "output_type": "execute_result",
          "data": {
            "text/plain": [
              "(20211, 4)"
            ]
          },
          "metadata": {
            "tags": []
          },
          "execution_count": 79
        }
      ]
    },
    {
      "cell_type": "markdown",
      "metadata": {
        "id": "vLXNZbbDqknD",
        "colab_type": "text"
      },
      "source": [
        "**BASE DE DADOS DE AMOSTRA**\n"
      ]
    },
    {
      "cell_type": "code",
      "metadata": {
        "id": "pYdixkoLqswc",
        "colab_type": "code",
        "colab": {}
      },
      "source": [
        "corona_df = corona_df.sample(n = 500, random_state=1)"
      ],
      "execution_count": 80,
      "outputs": []
    },
    {
      "cell_type": "code",
      "metadata": {
        "id": "BEx2uan6q75n",
        "colab_type": "code",
        "colab": {
          "base_uri": "https://localhost:8080/",
          "height": 35
        },
        "outputId": "013c9ac7-59ad-4e9a-916e-b22c7c7d3221"
      },
      "source": [
        "corona_df.shape"
      ],
      "execution_count": 81,
      "outputs": [
        {
          "output_type": "execute_result",
          "data": {
            "text/plain": [
              "(500, 4)"
            ]
          },
          "metadata": {
            "tags": []
          },
          "execution_count": 81
        }
      ]
    },
    {
      "cell_type": "code",
      "metadata": {
        "id": "_kprMMp0rAau",
        "colab_type": "code",
        "colab": {}
      },
      "source": [
        "corona_df.head()"
      ],
      "execution_count": null,
      "outputs": []
    },
    {
      "cell_type": "code",
      "metadata": {
        "id": "iHYk88WIrK6V",
        "colab_type": "code",
        "colab": {}
      },
      "source": [
        "corona_df.tail()"
      ],
      "execution_count": null,
      "outputs": []
    },
    {
      "cell_type": "code",
      "metadata": {
        "id": "AAMrF_p157i4",
        "colab_type": "code",
        "colab": {}
      },
      "source": [
        "## Visual Text analisys\n",
        "sample_text = corona_df['text'][23192]\n",
        "sample_text"
      ],
      "execution_count": null,
      "outputs": []
    },
    {
      "cell_type": "markdown",
      "metadata": {
        "id": "b9gphVNR6-jE",
        "colab_type": "text"
      },
      "source": [
        "**FUNÇÃO PARA PREPROCESSAMENTO**\n"
      ]
    },
    {
      "cell_type": "code",
      "metadata": {
        "id": "dHJtPzdeoCfu",
        "colab_type": "code",
        "colab": {}
      },
      "source": [
        "#nlp = spacy.load('en')\n",
        "#nlp = spacy.load('en_core_sci_md')\n",
        "nlp = en_core_sci_md.load(disable=['tagger', 'parser', 'ner'])\n",
        "\n",
        "nlp.max_length = 2000000"
      ],
      "execution_count": 85,
      "outputs": []
    },
    {
      "cell_type": "code",
      "metadata": {
        "id": "cg3aw3sNwQGV",
        "colab_type": "code",
        "colab": {}
      },
      "source": [
        "#print('scispacy:', scispacy.__version__, \" - \", \"spacy:\", spacy.__version__)\n",
        "#!stopwnltk = nltk.corpus.stopwords.words(\"english\")"
      ],
      "execution_count": null,
      "outputs": []
    },
    {
      "cell_type": "code",
      "metadata": {
        "id": "R4mL92yMPeWj",
        "colab_type": "code",
        "colab": {
          "base_uri": "https://localhost:8080/",
          "height": 55
        },
        "outputId": "6060c12c-3301-42de-da8b-36be7a4043e8"
      },
      "source": [
        "print(spacy.lang.en.stop_words.STOP_WORDS)"
      ],
      "execution_count": 86,
      "outputs": [
        {
          "output_type": "stream",
          "text": [
            "{'yours', 'ever', 'via', 'whatever', 'whom', 'therein', 'their', 'call', 'may', 'somewhere', 'she', 'but', 'anyone', 'however', 'is', 'this', 'they', 'cannot', 'five', 'formerly', 'one', 'without', 'themselves', 'back', 'down', 'everything', 'herself', 'moreover', 'just', 'or', 'made', 'see', 'am', 'somehow', 'onto', 'someone', 'than', 'though', 'whereafter', 'next', 'amount', 'that', 'from', 'bottom', 'here', 'least', '’re', 'no', 'during', 'should', 'have', 'former', 'afterwards', 'doing', 'were', 'why', 'eight', 'does', 'almost', 'become', 'behind', 'alone', 'always', 'perhaps', 'about', 'became', '’d', 'do', 'has', 'after', 'nevertheless', \"n't\", 'before', 'him', 'neither', 'did', 'who', 'please', 'its', 'yet', 'throughout', 'first', 'many', 'whither', 'along', 'could', 'hereafter', 'mostly', 'above', 'using', 'whereas', 'thereupon', 'hence', 'make', 'below', 'he', 'together', '‘s', 'sixty', 'hundred', 'ourselves', 'well', 'by', 'upon', 'used', 'hereby', 'anywhere', '‘re', 'mine', 'thereby', 'whenever', 'because', 'regarding', 'within', 'thru', 'myself', 'keep', 'nor', 'under', 'all', 'move', 'various', 'these', 'name', 'both', 'around', 'thus', '’m', 'was', 'where', 'empty', 'never', 'out', 'show', 'those', 'while', 'me', 'of', 'once', 'had', 'at', 'very', 'might', 'indeed', 'few', 're', 'really', 'serious', 'whereby', 'whereupon', 'whose', '‘ve', 'more', 'either', 'itself', 'nothing', 'when', 'even', 'yourself', 'seems', \"'m\", 'wherein', 'forty', 'in', '‘m', 'seem', 'and', 'can', 'take', '’ll', 'top', 'her', 'over', 'what', 'will', \"'s\", 'meanwhile', 'much', \"'ll\", 'himself', '‘d', 'them', 'others', 'beyond', 'us', 'nobody', 'rather', 'are', 'something', 'part', \"'d\", 'you', 'fifty', 'be', 'own', 'therefore', 'against', 'done', 'unless', 'an', 'two', 'a', 'for', 'how', 'still', 'we', 'with', 'eleven', 'fifteen', 'such', 'until', 'sometimes', 'yourselves', 'becoming', 'now', 'ca', 'latterly', 'i', 'any', 'to', 'being', 'noone', 'toward', \"'ve\", 'across', 'ten', 'each', 'three', 'there', '‘ll', 'four', 'namely', 'full', 'your', 'been', 'most', 'often', 'front', 'whole', 'beforehand', 'his', 'seeming', 'again', 'also', 'if', 'hereupon', 'seemed', 'n’t', '’ve', 'it', 'hers', 'which', 'nowhere', 'six', 'up', 'beside', 'every', 'put', 'third', 'n‘t', '’s', 'then', 'go', 'other', 'between', 'only', 'must', 'whoever', 'the', 'herein', 'same', 'whence', 'whether', 'due', 'side', 'since', 'twelve', 'would', 'anyway', 'my', 'off', 'everywhere', 'latter', 'several', 'some', 'besides', 'too', 'quite', 'already', 'twenty', 'enough', 'otherwise', 'give', 'everyone', 'among', 'as', 'another', 'get', 'nine', 'not', 'thereafter', 'anything', 'last', 'amongst', \"'re\", 'elsewhere', 'through', 'less', 'else', 'ours', 'except', 'although', 'into', 'sometime', 'anyhow', 'further', 'towards', 'thence', 'wherever', 'none', 'becomes', 'on', 'say', 'our', 'so', 'per'}\n"
          ],
          "name": "stdout"
        }
      ]
    },
    {
      "cell_type": "code",
      "metadata": {
        "id": "RP0KB8GUXK76",
        "colab_type": "code",
        "colab": {
          "base_uri": "https://localhost:8080/",
          "height": 35
        },
        "outputId": "f8ecae05-1aa1-4375-9f55-2af705a31b2c"
      },
      "source": [
        "len(spacy.lang.en.stop_words.STOP_WORDS)"
      ],
      "execution_count": 90,
      "outputs": [
        {
          "output_type": "execute_result",
          "data": {
            "text/plain": [
              "326"
            ]
          },
          "metadata": {
            "tags": []
          },
          "execution_count": 90
        }
      ]
    },
    {
      "cell_type": "code",
      "metadata": {
        "id": "RPdYkcZSP6BF",
        "colab_type": "code",
        "colab": {}
      },
      "source": [
        "def spacy_tokenizer(sentence):\n",
        "  sentence = sentence.lower() ## coloca tudo em minúsculo\n",
        "  list = [] \n",
        "  list = [word.lemma_ for word in nlp(sentence) if not (word.is_stop)] ## disable=['tagger', 'parser', 'ner']\n",
        "  lsit = ' ' .join([str(element) for element in list])\n",
        "\n",
        "  return list"
      ],
      "execution_count": 134,
      "outputs": []
    },
    {
      "cell_type": "code",
      "metadata": {
        "id": "vNrl6Bk1Xos5",
        "colab_type": "code",
        "colab": {}
      },
      "source": [
        "test = sample_text\n",
        "result = spacy_tokenizer(test)\n",
        "result"
      ],
      "execution_count": null,
      "outputs": []
    },
    {
      "cell_type": "code",
      "metadata": {
        "id": "2yZ2gcRAZ4SY",
        "colab_type": "code",
        "colab": {}
      },
      "source": [
        "token_list = []\n",
        "## junta as palavras numa mesma linha\n",
        "def join_sentences(textos):\n",
        "  token_list = ' '.join([token_list for token_list in textos])\n",
        "  return token_list"
      ],
      "execution_count": 125,
      "outputs": []
    },
    {
      "cell_type": "code",
      "metadata": {
        "id": "qeQ2I0XWfGUv",
        "colab_type": "code",
        "colab": {
          "base_uri": "https://localhost:8080/",
          "height": 201
        },
        "outputId": "cbfc8c28-089d-43d2-e609-7a11fee91e42"
      },
      "source": [
        "sample_text"
      ],
      "execution_count": 133,
      "outputs": [
        {
          "output_type": "execute_result",
          "data": {
            "application/vnd.google.colaboratory.intrinsic+json": {
              "type": "string"
            },
            "text/plain": [
              "'The patient is a 22-year-old man with a history of common variable immunodeficiency (CVID) associated with a heterozygous mutation in TNFRSF13B (TACI), granulomatous lymphocytic interstitial lung disease (GLILD), massive splenomegaly, immune thrombocytopenia, and autoimmune hemolytic anemia. He presented with a 5-day history of fever with temperatures up to 38.9 C, malaise, sinus congestion, intermittent headaches, and loose stools. He had no cough, dyspnea, vomiting, abdominal pain, joint pain, or rash. He had been nonadherent with his weekly home dosing of subcutaneous immunoglobulin therapy for hypogammaglobulinemia because he reported only taking a total of 3 doses during the previous 3 months, with the most recent dose 4 days before presentation. He had been treated with immunoglobulin replacement since 10 years of age when CVID was diagnosed based on a clinical history of recurrent sinus and ear infections, low pretreatment immunoglobulin levels (IgG, 291 mg/dL; IgA, 18.7 mg/dL; and IgM, 31 mg/dL), and poor specific antibody response to vaccines. At 14 years of age he was treated with 4 weekly doses of rituximab with improvement in his chronic thrombocytopenia, reduction in splenomegaly, and radiographic resolution of his lung disease. By 7 months after rituximab treatment, the patient redeveloped thrombocytopenia, splenomegaly, and lung disease. At that time the patient and family were given the option to repeat rituximab therapy or consider bone marrow transplant, but they chose not to pursue these therapies because he was relatively asymptomatic at the time. Since then, he has had intermittent sinus and skin infections treated in the outpatient setting, with his last reported infection being an abscess on his thigh occurring 4 months earlier. The abscess was treated successfully in the emergency department with trimethoprimsulfamethoxazole antibiotic therapy.\\nAdditional history revealed bilateral chest pain during the preceding week that was attributed by the patient to muscle strain. Vital signs included a temperature of 37.8 C, slight tachycardia with a heart rate of 107/min, slight tachypnea with a respiratory rate of 24/min, blood pressure of 121/63 mm Hg, and normal oxygen saturation. His examination findings were notable for a nontoxic general appearance, 2 ulcers present on the base of his tongue, and massive splenomegaly. He did not have significant nasal congestion, and his lungs were clear to auscultation with no respiratory distress. The results of initial blood cell count studies are given in Table 1 . The results of serum electrolyte measurement, liver function tests, and urinalysis were unremarkable. The results of a respiratory virus polymerase chain reaction (PCR) panel performed on a nasopharyngeal swab specimen were positive for rhinovirus and negative for influenza A, influenza B, parainfluenza, respiratory syncytial virus, human metapneumovirus, and coronavirus. The results of a rapid streptococcal antigen detection test performed on a throat swab specimen were negative. Chest radiography revealed possible right lower lobe pneumonia. Treatment with ceftriaxone and azithromycin was started, along with ibuprofen for headache. A dose of intravenous immunoglobulin was given. Serum IgG level before intravenous immunoglobulin therapy was 795 mg/dL. Though he was in no acute distress and currently afebrile, the decision was made to admit the patient that evening for close monitoring and intravenous antibiotic treatment of pneumonia.\\nThe patient developed fever with temperatures to 39.1 C by noon the following day, and he continued to have fevers for 6 days with a peak temperature of 39.5 C. During this period, his workup was expanded in the context of continued fevers with lack of respiratory symptoms of cough, wheezing, or shortness of breath. Further history revealed that he cleaned windows and gutters for employment during the past few months, that he was around a pet bird at his girlfriend\\'s house, that his father had died of metastatic colon cancer, and that his maternal grandmother had died of breast cancer. The spectrum of antimicrobial coverage was broadened by changing antibiotics to cefepime and levofloxacin. Blood test results were negative for human immunodeficiency virus, cytomegalovirus, Epstein-Barr virus, human herpesvirus 6, human herpesvirus 8, and parvovirus by PCR. Swab specimen of a tongue ulcer was negative for herpes simplex virus by PCR. A urine histoplasmosis antigen was tested. Computed tomography (CT) scans of his head, sinuses, chest, abdomen, and pelvis were performed, and a new lesion at the lower pole of the right kidney was noted, described as an ill-defined expansile lesion that was hypodense relative to the normal enhancing left kidney and without cysts, calcifications, or cavitations (Fig 1) . Other CT findings included evidence of fluid in both maxillary sinuses suggestive of acute sinusitis with no intracranial abnormality, patchy and confluent ground-glass opacities throughout the lungs with multiple peripheral areas of consolidation that were increased compared with a CT performed 3 years earlier (Fig 1A) , multiple enlarged mediastinal and abdominopelvic lymph nodes slightly increased in size from the prior CT, and massive splenomegaly, which had been noted previously. No fungal ball (mycetoma) signs were identified on the CT. In the context of his ongoing fevers, the right kidney mass was thought to be an infection vs a tumor. Cefepime was changed to doxycycline for additional staphylococcus coverage, given his history of skin abscesses. Given the concern for the possibility of lymphoma, lactate dehydrogenase and uric acid levels were measured and were normal. The urine histoplasmosis antigen test result was positive. This prompted initiation of a 12-week course of itraconazole, which led to defervescence by the second day of therapy (Fig 2) . A bronchoalveolar lavage specimen was obtained and tested positive for cytomegalovirus; therefore, treatment with valganciclovir was initiated.\\nA percutaneous biopsy of the right kidney mass was performed. The biopsy revealed extensive infiltration and destruction of renal tissue by a lymphoproliferative lesion, which was composed mostly of small CD20-positive lymphoid cells with occasional large, transformed cells (Fig 3) . Immunohistochemistry for Ki-67 revealed that the cells in the lesion had low proliferative activity. Flow cytometry detected an abnormal B-cell population with surface k light chain restriction. The abnormal B cells were positive for CD19, CD20, CD22, CD24, CD38, CD52, CD74, FMC7, and HLA-DR. Most of them were negative for CD5, although there was possible expression of this marker on a small subset (<20%). All of them were negative for CD10. The morphologic testing and immunophenotyping results were consistent with an extranodal marginal zone lymphoma of mucosa-associated lymphoid tissue (MALT). An attempt to obtain a G-banded karyotype was unsuccessful because of a failure of the cells to grow in culture, and molecular clonality testing was considered but not performed. For the renal MALT lymphoma, surgical resection, anti-CD20 immunotherapy, or watchful waiting were presented as initial options. Watchful waiting was selected by the patient. A surveillance program that involved CT and ultrasonography was initiated. Six months from diagnosis, there was slight decrease in size of the renal lesion, with no change in splenomegaly or retroperitoneal lymphadenopathy, and at 1 year after diagnosis, the renal mass was no longer seen on ultrasonography.\\nCVID is a primary immunodeficiency disease that involves reduced serum concentrations of IgG, reduced IgA and/or IgM, and impaired production of specific antibodies in response to antigen (typically documented by poor response to vaccination). Decreased quantity and/or function of B cells typically causes the humoral deficit, although abnormal T-cell regulation of B cells can also be causative. 1 Recurrent sino-pulmonary tract infections are the main complication for most patients with CVID. Approximately half of patients with CVID have had at least one episode of pneumonia, and some patients with CVID have multiple episodes of pneumonia. 2 Other common infections include bronchitis, sinusitis, and otitis media. Immunoglobulin replacement is the standard of care for reducing frequency of infections. Patients with CVID are at increased risk for autoimmune disease, granulomatous disease, and malignant tumors, such as lymphoma. 3 Up to 15% of patients with CVID develop GLILD, which is a restrictive lung disease that is associated with greater morbidity and earlier mortality. 4 Lymphadenopathy and splenomegaly can be seen in one-quarter of patients with CVID, 5 with splenomegaly being associated with granulomatous disease and autoimmune disease. 6 Histoplasmosis, caused by the organism Histoplasma capsulatum, is the most common endemic mycosis in the United States and inhabits the major river valleys of central and southern United States. 7 Fungal spores that can lead to infection are airborne and in higher concentrations in soil that contains bird or bat droppings. 8 Infections are generally asymptomatic, but disseminated disease can occur particularly in immunocompromised patients. Common clinical manifestations include fever, respiratory symptoms, hepatomegaly, splenomegaly, lymphadenopathy, gastrointestinal symptoms, and weight loss. 7 Oropharyngeal ulcers are common and can occur in up to two-thirds of patients with disseminated histoplasmosis. 8 Diagnostic laboratory testing for histoplasmosis includes cultures, fungal staining, antigen detection, and serologic tests, although rapid diagnosis can be attained through antigen testing of urine, with enzyme immunoassay of Histoplasma antigen in urine being detected in approximately 75% of nonimmunocompromised patients and 95% of immunocompromised patients. 9 Treatment of disseminated histoplasmosis depends on severity of illness and includes amphotericin B formulations for moderate to severe disease and itraconazole for mild to moderate disease. 10 Our patient had fever, splenomegaly, and tongue ulcers as physical findings consistent with disseminated histoplasmosis, along with a history of being near a pet bird and cleaning of windows and gutters, which would have increased his risk of exposure to Histoplasma spores. His splenomegaly, however, was not a new discovery and was actually a previously known clinical finding associated with his CVID and GLILD. The patient may be more susceptible to histoplasmosis because of the dysregulation of cell-mediated immunity associated with his CVID, as evidenced by his low response on antigen and mitogen stimulation assays performed 14 months before presentation (Table 1) . His increases in lung ground-glass opacities and mediastinal and abdominopelvic lymphadenopathy were possibly a lymphocytic response to infection, although there were no lung or lymph node biopsy specimens to prove this. He responded well to itraconazole therapy, with resolution of fever within 48 hours of treatment initiation.\\nDisseminated histoplasmosis in immunodeficient patients has primarily been reported in patients with AIDS and less so in patients with primary immunodeficiency, such as those with CVID. 11 Reactivation of latent infection has been reported in patients with chronic immunosuppression, such as with chemotherapy, long-term steroid use, or AIDS, 12 although our patient had last received his only immunosuppressive therapy, rituximab, 8 years ago, and a medical record review of our patient yielded no documentation of a prior histoplasmosis infection. We found 3 case reports of Histoplasma infection in patients with CVID: (1) a 66-year-old man who initially presented with dizziness, tinnitus, and confusion who was diagnosed with Histoplasma meningitis 13 ;\\n(2) a 49-year-old woman who presented with lower gastrointestinal tract bleeding and was diagnosed with disseminated histoplasmosis with findings of a cecal ulcer 14 ; and (3) a 29-year-old man who presented with chronic diarrhea and weight loss, along with \"whitish, necrotic lesions on the tongue,\" who was ultimately diagnosed with disseminated histoplasmosis. 15 Our patient differs from these other case reports in that he did not have any neurologic or gastrointestinal symptoms, but he did have tongue lesions similar to the case report of the 29-year-old male patient.\\nThe patient\\'s MALT lymphoma in the kidney is likely related to the history of CVID and autoimmunity. MALT lymphoma is a rare cancer, is especially rare in CVID, and is believed to form in lymphoid tissues secondary to chronic inflammatory or autoimmune stimulation. A 2006 review of MALT lymphoma in patients with CVID mentioned 9 published cases at the time, with primary sites of involvement being the lung in 5 cases, the parotid gland in 2 cases, the paranasal sinuses in 1 case, and the orbital cavity in 1 case. 16 Our patient is unique in that his MALT lymphoma is located in the kidney, which is a rare site of involvement that has not previously been reported in patients with CVID. 17 MALT lymphoma overall is an indolent malignant tumor with a good prognosis. The 5-year survival rate is greater than 90%, and the 10-year survival rate is 75% to 80%, although recurrences can occur a median of 5 years after treatment. 18 The prognosis of MALT lymphoma in the specific setting of CVID has not been systematically studied or reported. Our patient\\'s MALT lymphoma spontaneously regressed without intervention and was no longer detectable by ultrasonography within 1 year of initial diagnosis. This is an interesting finding because there have only been some anecdotal reports of spontaneous remission in adult patients with ocular and pulmonary MALT lymphomas. 18, 19 The temporal association of the discovery and resolution of the lesion to the histoplasmosis infection in our patient raises the question of whether the infection could have influenced the formation of the MALT lymphoma through fungal modulation of the immune system because there is evidence that Histoplasma can subvert the innate immune system by \"hiding\" its b-glucan from phagocyte dectin-1 receptor recognition using a layer of a-linked glucan in combination with glucanase to reduce levels of exposed b-glucan. 20 We were not able to find evidence of such tactics influencing the adaptive immune system in a way that would increase the risk of malignant tumors, and we are not aware of any previously reported associations to support suggesting a direct association between histoplasmosis and MALT lymphoma. Therapy for MALT lymphoma can include watchful waiting, localized radiotherapy vs surgical resection, antibiotics (in the case of gastric MALT lymphoma associated with Helicobacter pylori), and systemic treatments, such as chemotherapy and immunomodulatory agents. 18 Of note, some of the treatment modalities for CVID-GLILD and MALT lymphoma can be similar, such as rituximab, which highlights the potential dual benefit of such treatments for the patient. 16'"
            ]
          },
          "metadata": {
            "tags": []
          },
          "execution_count": 133
        }
      ]
    },
    {
      "cell_type": "code",
      "metadata": {
        "id": "jcTltbmIdMHd",
        "colab_type": "code",
        "colab": {
          "base_uri": "https://localhost:8080/",
          "height": 201
        },
        "outputId": "50cc3d1e-836b-4b25-f997-7aa84602715d"
      },
      "source": [
        "test = sample_text\n",
        "result = join_sentences(spacy_tokenizer(test))\n",
        "result"
      ],
      "execution_count": 135,
      "outputs": [
        {
          "output_type": "execute_result",
          "data": {
            "application/vnd.google.colaboratory.intrinsic+json": {
              "type": "string"
            },
            "text/plain": [
              "'patient 22-year-old man history common variable immunodeficiency ( cvid ) associate heterozygous mutation tnfrsf13b ( taci ) , granulomatous lymphocytic interstitial lung disease ( glild ) , massive splenomegaly , immune thrombocytopenia , autoimmune hemolytic anemia . present 5-day history fever temperature 38.9 c , malaise , sinus congestion , intermittent headache , loose stool . cough , dyspnea , vomit , abdominal pain , joint pain , rash . nonadherent weekly home dose subcutaneous immunoglobulin therapy hypogammaglobulinemia report take total 3 dose previous 3 month , recent dose 4 day presentation . treat immunoglobulin replacement 10 year age cvid diagnose base clinical history recurrent sinus ear infection , low pretreatment immunoglobulin level ( igg , 291 mg/dl ; iga , 18.7 mg/dl ; igm , 31 mg/dl ) , poor specific antibody response vaccine . 14 year age treat 4 weekly dose rituximab improvement chronic thrombocytopenia , reduction splenomegaly , radiographic resolution lung disease . 7 month rituximab treatment , patient redevelop thrombocytopenia , splenomegaly , lung disease . time patient family give option repeat rituximab therapy consider bone marrow transplant , choose pursue therapy relatively asymptomatic time . , intermittent sinus skin infection treat outpatient set , report infection abscess thigh occur 4 month early . abscess treat successfully emergency department trimethoprimsulfamethoxazole antibiotic therapy . \\n additional history reveal bilateral chest pain precede week attribute patient muscle strain . vital sign include temperature 37.8 c , slight tachycardia heart rate 107/min , slight tachypnea respiratory rate 24/min , blood pressure 121/63 mm hg , normal oxygen saturation . examination finding notable nontoxic general appearance , 2 ulcer present base tongue , massive splenomegaly . significant nasal congestion , lung clear auscultation respiratory distress . result initial blood cell count study give table 1 . result serum electrolyte measurement , live function test , urinalysis unremarkable . result respiratory virus polymerase chain reaction ( pcr ) panel perform nasopharyngeal swab specimen positive rhinovirus negative influenza , influenza b , parainfluenza , respiratory syncytial virus , human metapneumovirus , coronavirus . result rapid streptococcal antigen detection test perform throat swab specimen negative . chest radiography reveal possible right low lobe pneumonia . treatment ceftriaxone azithromycin start , ibuprofen headache . dose intravenous immunoglobulin give . serum igg level intravenous immunoglobulin therapy 795 mg/dl . acute distress currently afebrile , decision admit patient even close monitor intravenous antibiotic treatment pneumonia . \\n patient develope fever temperature 39.1 c noon follow day , continue fever 6 day peak temperature 39.5 c. period , workup expand context continue fever lack respiratory symptom cough , wheeze , shortness breath . history reveal clean window gutter employment past month , pet bird girlfriend house , father die metastatic colon cancer , maternal grandmother die breast cancer . spectrum antimicrobial coverage broaden change antibiotic cefepime levofloxacin . blood test result negative human immunodeficiency virus , cytomegalovirus , epstein-barr virus , human herpesvirus 6 , human herpesvirus 8 , parvovirus pcr . swab specimen tongue ulcer negative herpes simplex virus pcr . urine histoplasmosis antigen test . compute tomography ( ct ) scan head , sinus , chest , abdomen , pelvis perform , new lesion low pole right kidney note , describe ill-defined expansile lesion hypodense relative normal enhance leave kidney cyst , calcification , cavitation ( fig 1 ) . ct finding include evidence fluid maxillary sinus suggestive acute sinusitis intracranial abnormality , patchy confluent ground-glass opacity lung multiple peripheral area consolidation increase compare ct perform 3 year early ( fig 1a ) , multiple enlarge mediastinal abdominopelvic lymph node slightly increase size prior ct , massive splenomegaly , note previously . fungal ball ( mycetoma ) sign identify ct . context ongoing fever , right kidney mass think infection vs tumor . cefepime change doxycycline additional staphylococcus coverage , give history skin abscess . give concern possibility lymphoma , lactate dehydrogenase uric acid level measure normal . urine histoplasmosis antigen test result positive . prompt initiation 12-week course itraconazole , lead defervescence 2 day therapy ( fig 2 ) . bronchoalveolar lavage specimen obtain test positive cytomegalovirus ; , treatment valganciclovir initiate . \\n percutaneous biopsy right kidney mass perform . biopsy reveal extensive infiltration destruction renal tissue lymphoproliferative lesion , compose small cd20-positive lymphoid cell occasional large , transform cell ( fig 3 ) . immunohistochemistry ki-67 reveal cell lesion low proliferative activity . flow cytometry detect abnormal b-cell population surface k light chain restriction . abnormal b cell positive cd19 , cd20 , cd22 , cd24 , cd38 , cd52 , cd74 , fmc7 , hla-dr . negative cd5 , possible expression marker small subset ( < 20 % ) . negative cd10 . morphologic test immunophenotyping result consistent extranodal marginal zone lymphoma mucosa-associated lymphoid tissue ( malt ) . attempt obtain g-banded karyotype unsuccessful failure cell grow culture , molecular clonality test consider perform . renal malt lymphoma , surgical resection , anti-cd20 immunotherapy , watchful wait present initial option . watchful wait select patient . surveillance program involve ct ultrasonography initiate . month diagnosis , slight decrease size renal lesion , change splenomegaly retroperitoneal lymphadenopathy , 1 year diagnosis , renal mass long see ultrasonography . \\n cvid primary immunodeficiency disease involve reduce serum concentration igg , reduce iga and/or igm , impair production specific antibody response antigen ( typically document poor response vaccination ) . decrease quantity and/or function b cell typically cause humoral deficit , abnormal t-cell regulation b cell causative . 1 recurrent sino-pulmonary tract infection main complication patient cvid . approximately half patient cvid episode pneumonia , patient cvid multiple episode pneumonia . 2 common infection include bronchitis , sinusitis , otitis medium . immunoglobulin replacement standard care reduce frequency infection . patient cvid increase risk autoimmune disease , granulomatous disease , malignant tumor , lymphoma . 3 15 % patient cvid develop glild , restrictive lung disease associate great morbidity early mortality . 4 lymphadenopathy splenomegaly see one-quarter patient cvid , 5 splenomegaly associate granulomatous disease autoimmune disease . 6 histoplasmosis , cause organism histoplasma capsulatum , common endemic mycosis unite state inhabit major river valley central southern unite state . 7 fungal spore lead infection airborne high concentration soil contain bird bat droppings . 8 infection generally asymptomatic , disseminate disease occur particularly immunocompromise patient . common clinical manifestation include fever , respiratory symptom , hepatomegaly , splenomegaly , lymphadenopathy , gastrointestinal symptom , weight loss . 7 oropharyngeal ulcer common occur two-thirds patient disseminate histoplasmosis . 8 diagnostic laboratory test histoplasmosis include culture , fungal stain , antigen detection , serologic test , rapid diagnosis attain antigen test urine , enzyme immunoassay histoplasma antigen urine detect approximately 75 % nonimmunocompromised patient 95 % immunocompromise patient . 9 treatment disseminate histoplasmosis depend severity illness include amphotericin b formulation moderate severe disease itraconazole mild moderate disease . 10 patient fever , splenomegaly , tongue ulcer physical finding consistent disseminate histoplasmosis , history near pet bird clean window gutter , increase risk exposure histoplasma spore . splenomegaly , , new discovery actually previously know clinical find associate cvid glild . patient susceptible histoplasmosis dysregulation cell-mediated immunity associate cvid , evidence low response antigen mitogen stimulation assay perform 14 month presentation ( table 1 ) . increase lung ground-glass opacity mediastinal abdominopelvic lymphadenopathy possibly lymphocytic response infection , lung lymph node biopsy specimen prove . respond itraconazole therapy , resolution fever 48 hour treatment initiation . \\n disseminate histoplasmosis immunodeficient patient primarily report patient aid patient primary immunodeficiency , cvid . 11 reactivation latent infection report patient chronic immunosuppression , chemotherapy , long-term steroid use , aid , 12 patient receive immunosuppressive therapy , rituximab , 8 year ago , medical record review patient yield documentation prior histoplasmosis infection . find 3 case report histoplasma infection patient cvid : ( 1 ) 66-year-old man initially present dizziness , tinnitus , confusion diagnose histoplasma meningitis 13 ; \\n ( 2 ) 49-year-old woman present low gastrointestinal tract bleed diagnose disseminate histoplasmosis finding cecal ulcer 14 ; ( 3 ) 29-year-old man present chronic diarrhea weight loss , \" whitish , necrotic lesion tongue , \" ultimately diagnose disseminate histoplasmosis . 15 patient differ case report neurologic gastrointestinal symptom , tongue lesion similar case report 29-year-old male patient . \\n patient malt lymphoma kidney likely relate history cvid autoimmunity . malt lymphoma rare cancer , especially rare cvid , believe form lymphoid tissue secondary chronic inflammatory autoimmune stimulation . 2006 review malt lymphoma patient cvid mention 9 publish case time , primary site involvement lung 5 case , parotid gland 2 case , paranasal sinus 1 case , orbital cavity 1 case . 16 patient unique malt lymphoma locate kidney , rare site involvement previously report patient cvid . 17 malt lymphoma overall indolent malignant tumor good prognosis . 5-year survival rate great 90 % , 10-year survival rate 75 % 80 % , recurrence occur median 5 year treatment . 18 prognosis malt lymphoma specific set cvid systematically study report . patient malt lymphoma spontaneously regress intervention long detectable ultrasonography 1 year initial diagnosis . interest find anecdotal report spontaneous remission adult patient ocular pulmonary malt lymphoma . 18 , 19 temporal association discovery resolution lesion histoplasmosis infection patient raise question infection influence formation malt lymphoma fungal modulation immune system evidence histoplasma subvert innate immune system \" hide \" b-glucan phagocyte dectin-1 receptor recognition layer a-linked glucan combination glucanase reduce level expose b-glucan . 20 able find evidence tactic influence adaptive immune system way increase risk malignant tumor , aware previously report association support suggest direct association histoplasmosis malt lymphoma . therapy malt lymphoma include watchful wait , localize radiotherapy vs surgical resection , antibiotic ( case gastric malt lymphoma associate helicobacter pylorus ) , systemic treatment , chemotherapy immunomodulatory agent . 18 note , treatment modality cvid-glild malt lymphoma similar , rituximab , highlight potential dual benefit treatment patient . 16'"
            ]
          },
          "metadata": {
            "tags": []
          },
          "execution_count": 135
        }
      ]
    },
    {
      "cell_type": "code",
      "metadata": {
        "id": "1r6KtHm6JjI_",
        "colab_type": "code",
        "colab": {}
      },
      "source": [
        "corona_df['text'] = corona_df['text'].apply(spacy_tokenizer)"
      ],
      "execution_count": null,
      "outputs": []
    },
    {
      "cell_type": "code",
      "metadata": {
        "id": "mdr3tu5mKAgE",
        "colab_type": "code",
        "colab": {}
      },
      "source": [
        "print(sample_text)"
      ],
      "execution_count": null,
      "outputs": []
    },
    {
      "cell_type": "code",
      "metadata": {
        "id": "gOSbE-RLKWdx",
        "colab_type": "code",
        "colab": {}
      },
      "source": [
        "len(sample_text)"
      ],
      "execution_count": null,
      "outputs": []
    },
    {
      "cell_type": "code",
      "metadata": {
        "id": "EOM56kSfKa0-",
        "colab_type": "code",
        "colab": {}
      },
      "source": [
        "print(corona_df['text'][11015])"
      ],
      "execution_count": null,
      "outputs": []
    }
  ]
}