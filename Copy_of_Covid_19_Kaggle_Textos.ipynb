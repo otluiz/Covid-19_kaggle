{
  "nbformat": 4,
  "nbformat_minor": 0,
  "metadata": {
    "colab": {
      "name": "Copy of Covid-19 - Kaggle Textos.ipynb",
      "provenance": [],
      "collapsed_sections": [],
      "include_colab_link": true
    },
    "kernelspec": {
      "name": "python3",
      "display_name": "Python 3"
    },
    "accelerator": "TPU"
  },
  "cells": [
    {
      "cell_type": "markdown",
      "metadata": {
        "id": "view-in-github",
        "colab_type": "text"
      },
      "source": [
        "<a href=\"https://colab.research.google.com/github/otluiz/Covid-19_kaggle/blob/master/Copy_of_Covid_19_Kaggle_Textos.ipynb\" target=\"_parent\"><img src=\"https://colab.research.google.com/assets/colab-badge.svg\" alt=\"Open In Colab\"/></a>"
      ]
    },
    {
      "cell_type": "code",
      "metadata": {
        "id": "-hMn8kIB_fB5",
        "colab_type": "code",
        "colab": {
          "base_uri": "https://localhost:8080/",
          "height": 74
        },
        "outputId": "16a205cb-d688-4b4a-ae0a-d825ecd3fc16"
      },
      "source": [
        "import numpy as np\n",
        "import zipfile\n",
        "import pandas as pd\n",
        "import glob\n",
        "import json\n",
        "import seaborn as sns\n",
        "import spacy\n",
        "import nltk\n",
        "from IPython.core.display import HTML\n",
        "from matplotlib import pyplot as plt"
      ],
      "execution_count": null,
      "outputs": [
        {
          "output_type": "stream",
          "text": [
            "/usr/local/lib/python3.6/dist-packages/statsmodels/tools/_testing.py:19: FutureWarning: pandas.util.testing is deprecated. Use the functions in the public API at pandas.testing instead.\n",
            "  import pandas.util.testing as tm\n"
          ],
          "name": "stderr"
        }
      ]
    },
    {
      "cell_type": "code",
      "metadata": {
        "id": "HP3IfLkI_3zM",
        "colab_type": "code",
        "colab": {}
      },
      "source": [
        "#!pip install -U spacy\n",
        "#!pip install scispacy\n",
        "#!pip install https://s3-us-west-2.amazonaws.com/ai2-s2-scispacy/releases/v0.2.5/en_core_sci_md-0.2.5.tar.gz\n",
        "#!python -m spacy download en\n",
        "import en_core_sci_md\n",
        "import scispacy\n",
        "import zipfile"
      ],
      "execution_count": null,
      "outputs": []
    },
    {
      "cell_type": "markdown",
      "metadata": {
        "id": "ZAHqiASIJMqR",
        "colab_type": "text"
      },
      "source": [
        "Chama os drives da Google e monta um novo diretório neste 'notebook'. Precisa de uma conexão (URL) onde a Google gera uma 'auth' para entrar no meu Google Drive"
      ]
    },
    {
      "cell_type": "markdown",
      "metadata": {
        "id": "KxwNIFyBCBC1",
        "colab_type": "text"
      },
      "source": [
        "First, you'll need to mount your Drive."
      ]
    },
    {
      "cell_type": "code",
      "metadata": {
        "id": "prUMpfLaB-D7",
        "colab_type": "code",
        "colab": {}
      },
      "source": [
        "from google.colab import drive\n",
        "drive.mount('/content/gdrive')"
      ],
      "execution_count": null,
      "outputs": []
    },
    {
      "cell_type": "markdown",
      "metadata": {
        "id": "4SkYZjxaIl_9",
        "colab_type": "text"
      },
      "source": [
        "Conecta ao diretório do meu Google Drive onde estão os dados da Covid-19 que está compactado.\n",
        "Será descompactado (unzip) no meu Google Drive\n"
      ]
    },
    {
      "cell_type": "code",
      "metadata": {
        "id": "bC9VFHaC9PQA",
        "colab_type": "code",
        "colab": {}
      },
      "source": [
        "path = '/content/gdrive/My Drive/CORD-19-research-challenge.zip'\n",
        "from zipfile import *\n",
        "zip_object = zipfile.ZipFile(file=path, mode='r')\n",
        "zip_object.extractall('./')\n",
        "zip_object.close()"
      ],
      "execution_count": null,
      "outputs": []
    },
    {
      "cell_type": "markdown",
      "metadata": {
        "id": "0Mz-iWVcIbbo",
        "colab_type": "text"
      },
      "source": [
        "Criação do DataFrame com os textos dos artigos\n"
      ]
    },
    {
      "cell_type": "markdown",
      "metadata": {
        "id": "pvQ11GtKLHwG",
        "colab_type": "text"
      },
      "source": [
        "DataFrame no formato JSON"
      ]
    },
    {
      "cell_type": "code",
      "metadata": {
        "id": "8uA_oEib9F0G",
        "colab_type": "code",
        "colab": {}
      },
      "source": [
        "features_corona = {'paper_id': [],\n",
        "                   'title' : [],\n",
        "                   'abstract' : [],\n",
        "                   'text' : []}"
      ],
      "execution_count": null,
      "outputs": []
    },
    {
      "cell_type": "markdown",
      "metadata": {
        "id": "UwDHhcF5LzZC",
        "colab_type": "text"
      },
      "source": [
        "Testando o tipo \"features_corona\"\n"
      ]
    },
    {
      "cell_type": "code",
      "metadata": {
        "id": "74qx4Z-NL861",
        "colab_type": "code",
        "colab": {}
      },
      "source": [
        "type (features_corona)"
      ],
      "execution_count": null,
      "outputs": []
    },
    {
      "cell_type": "markdown",
      "metadata": {
        "id": "3ZuBhy04MKpk",
        "colab_type": "text"
      },
      "source": [
        "Transformar o tipo dict em dataframe\n"
      ]
    },
    {
      "cell_type": "code",
      "metadata": {
        "id": "iMPS1eYxMlyr",
        "colab_type": "code",
        "colab": {}
      },
      "source": [
        "corona_df = pd.DataFrame.from_dict(features_corona)"
      ],
      "execution_count": null,
      "outputs": []
    },
    {
      "cell_type": "markdown",
      "metadata": {
        "id": "QQLm19DkOkOT",
        "colab_type": "text"
      },
      "source": [
        "Verificando o novo tipo"
      ]
    },
    {
      "cell_type": "code",
      "metadata": {
        "id": "SRFbBJRKOhaf",
        "colab_type": "code",
        "colab": {}
      },
      "source": [
        "type (corona_df)"
      ],
      "execution_count": null,
      "outputs": []
    },
    {
      "cell_type": "markdown",
      "metadata": {
        "id": "ADWfkbmUOwxb",
        "colab_type": "text"
      },
      "source": [
        "Pandas é o \"default for Machine Learning in Python projects\"\n"
      ]
    },
    {
      "cell_type": "code",
      "metadata": {
        "id": "43bgvaq6PgDI",
        "colab_type": "code",
        "colab": {}
      },
      "source": [
        "corona_df.head()"
      ],
      "execution_count": null,
      "outputs": []
    },
    {
      "cell_type": "markdown",
      "metadata": {
        "id": "fbK2PoyLPoMN",
        "colab_type": "text"
      },
      "source": [
        "Ler os arquivos JSON a partir da raiz '/' para popular o futuro dataframe (corona_df) a ser criado mais adiante\n"
      ]
    },
    {
      "cell_type": "code",
      "metadata": {
        "id": "aqsYMynlPm_d",
        "colab_type": "code",
        "colab": {}
      },
      "source": [
        "json_filenames = glob.glob(f'{\"./\"}//**/*.json', recursive = True)\n",
        "print(json_filenames)"
      ],
      "execution_count": null,
      "outputs": []
    },
    {
      "cell_type": "code",
      "metadata": {
        "id": "1o08_XtnUifm",
        "colab_type": "code",
        "colab": {}
      },
      "source": [
        "len(json_filenames)"
      ],
      "execution_count": null,
      "outputs": []
    },
    {
      "cell_type": "markdown",
      "metadata": {
        "id": "BeNmqDb64jyu",
        "colab_type": "text"
      },
      "source": [
        "Cada arquivo JSON seráá uma linha do dataframe, populando assim o corona_df\n"
      ]
    },
    {
      "cell_type": "code",
      "metadata": {
        "id": "LZqlI2yH5SdH",
        "colab_type": "code",
        "colab": {}
      },
      "source": [
        "def retorna_corona_df(json_filenames, df):\n",
        "  for file_name in json_filenames:\n",
        "    linha_dados = {'paper_id': None, 'title': None, 'abstract': None, 'text': None}\n",
        "\n",
        "    with open(file_name) as json_data:\n",
        "      if file_name == './sample_data/anscombe.json': # ignora os anscombe.json\n",
        "        continue\n",
        "      #if file_name == './MeuMestrado/ProjetoGeolocalização/node_modules/gulp/node_modules/tildify/*.json': \n",
        "      #  continue\n",
        "\n",
        "      data = json.load(json_data)\n",
        "\n",
        "      ## .strip() : ' 345 ' -> '345' retira os espaços\n",
        "      linha_dados['paper_id'] = data['paper_id'].strip()\n",
        "      linha_dados['title'] = data['metadata']['title'].strip()\n",
        "\n",
        "      abstract_list = [abstract['text'] for abstract in data['abstract']]\n",
        "      abstract = '\\n'.join(abstract_list)\n",
        "      linha_dados['abstract'] = abstract.strip()\n",
        "\n",
        "      text_list = [text['text'] for text in data['body_text']]\n",
        "      text = '\\n'.join(text_list)\n",
        "      linha_dados['text'] = text.strip()\n",
        "\n",
        "      df = df.append(linha_dados, ignore_index = True)\n",
        "  return df"
      ],
      "execution_count": null,
      "outputs": []
    },
    {
      "cell_type": "code",
      "metadata": {
        "id": "EuGChutx9IKJ",
        "colab_type": "code",
        "colab": {}
      },
      "source": [
        "corona_df = retorna_corona_df(json_filenames, corona_df)"
      ],
      "execution_count": null,
      "outputs": []
    },
    {
      "cell_type": "code",
      "metadata": {
        "id": "a-7gYTIRfmmD",
        "colab_type": "code",
        "colab": {}
      },
      "source": [
        "corona_df2 = corona_df[['paper_id', 'title', 'abstract', 'text']] ## criando um back-up do DataFrame\n"
      ],
      "execution_count": null,
      "outputs": []
    },
    {
      "cell_type": "code",
      "metadata": {
        "id": "dXtPL3LzbBYJ",
        "colab_type": "code",
        "colab": {}
      },
      "source": [
        "#corona_df.drop(corona_df.tail(29315).index,inplace=True) # remove as ultimas linhas"
      ],
      "execution_count": null,
      "outputs": []
    },
    {
      "cell_type": "code",
      "metadata": {
        "id": "e_oRTN7Rbzsc",
        "colab_type": "code",
        "colab": {}
      },
      "source": [
        "#corona_df.drop(corona_df.head(2).index,inplace=True) # drop first 2 rows"
      ],
      "execution_count": null,
      "outputs": []
    },
    {
      "cell_type": "code",
      "metadata": {
        "id": "4Px975LyMOoq",
        "colab_type": "code",
        "colab": {
          "base_uri": "https://localhost:8080/",
          "height": 35
        },
        "outputId": "e82dd575-f602-4f0a-ec8b-7c4af706ea83"
      },
      "source": [
        "corona_df.shape"
      ],
      "execution_count": null,
      "outputs": [
        {
          "output_type": "execute_result",
          "data": {
            "text/plain": [
              "(29315, 4)"
            ]
          },
          "metadata": {
            "tags": []
          },
          "execution_count": 18
        }
      ]
    },
    {
      "cell_type": "code",
      "metadata": {
        "id": "1Q3Ei9z6gb_o",
        "colab_type": "code",
        "colab": {
          "base_uri": "https://localhost:8080/",
          "height": 35
        },
        "outputId": "363b92da-86a9-4b60-950e-1550f58db61c"
      },
      "source": [
        "corona_df2.shape"
      ],
      "execution_count": null,
      "outputs": [
        {
          "output_type": "execute_result",
          "data": {
            "text/plain": [
              "(29315, 4)"
            ]
          },
          "metadata": {
            "tags": []
          },
          "execution_count": 19
        }
      ]
    },
    {
      "cell_type": "code",
      "metadata": {
        "id": "Q8wEcEru5Caf",
        "colab_type": "code",
        "colab": {}
      },
      "source": [
        "corona_df.head()"
      ],
      "execution_count": null,
      "outputs": []
    },
    {
      "cell_type": "code",
      "metadata": {
        "id": "uAK2a2Vp5MDr",
        "colab_type": "code",
        "colab": {}
      },
      "source": [
        "corona_df['title'][29314] ## Analise de algum texto escolhido ao acaso"
      ],
      "execution_count": null,
      "outputs": []
    },
    {
      "cell_type": "code",
      "metadata": {
        "id": "HuR_-qr4eT_O",
        "colab_type": "code",
        "colab": {}
      },
      "source": [
        "corona_df.tail()"
      ],
      "execution_count": null,
      "outputs": []
    },
    {
      "cell_type": "code",
      "metadata": {
        "id": "946lWuD_dzOw",
        "colab_type": "code",
        "colab": {}
      },
      "source": [
        "corona_df['text'][2]"
      ],
      "execution_count": null,
      "outputs": []
    },
    {
      "cell_type": "code",
      "metadata": {
        "id": "n9zGSqjWitbG",
        "colab_type": "code",
        "colab": {}
      },
      "source": [
        "len(corona_df['text'][2]) ## Quantas palavras têm este texto [2]?"
      ],
      "execution_count": null,
      "outputs": []
    },
    {
      "cell_type": "markdown",
      "metadata": {
        "id": "JKFvomXzjP2Q",
        "colab_type": "text"
      },
      "source": [
        "**PERPROCESSAMENTO DE TEXTOS DOS ARTIGOS**\n",
        "<PROCURANDO POR DADOS FALTANTES>"
      ]
    },
    {
      "cell_type": "code",
      "metadata": {
        "id": "0qNTsUi4kBHI",
        "colab_type": "code",
        "colab": {}
      },
      "source": [
        "sns.heatmap(corona_df.isnull()); ## procurando dados faltantes pelo mapa de calor"
      ],
      "execution_count": null,
      "outputs": []
    },
    {
      "cell_type": "code",
      "metadata": {
        "id": "avSheKFTlHAB",
        "colab_type": "code",
        "colab": {
          "base_uri": "https://localhost:8080/",
          "height": 35
        },
        "outputId": "ee5b43c2-987f-4e48-fb4c-f561cdcb2e96"
      },
      "source": [
        "len(corona_df[corona_df['paper_id'] == '']) # procurando por espaços vazios"
      ],
      "execution_count": null,
      "outputs": [
        {
          "output_type": "execute_result",
          "data": {
            "text/plain": [
              "0"
            ]
          },
          "metadata": {
            "tags": []
          },
          "execution_count": 25
        }
      ]
    },
    {
      "cell_type": "code",
      "metadata": {
        "id": "d9U3fNPwlWdP",
        "colab_type": "code",
        "colab": {
          "base_uri": "https://localhost:8080/",
          "height": 35
        },
        "outputId": "8b5ed2c8-3014-48be-b7cb-b5935b60c7ca"
      },
      "source": [
        "len(corona_df[corona_df['title'] == '']) # procurando por espaços vazios nos tíítulos"
      ],
      "execution_count": null,
      "outputs": [
        {
          "output_type": "execute_result",
          "data": {
            "text/plain": [
              "3583"
            ]
          },
          "metadata": {
            "tags": []
          },
          "execution_count": 26
        }
      ]
    },
    {
      "cell_type": "code",
      "metadata": {
        "id": "Qb4SszdOlkqn",
        "colab_type": "code",
        "colab": {
          "base_uri": "https://localhost:8080/",
          "height": 35
        },
        "outputId": "41c08ab5-81e1-4d42-c8ba-d18dc93c5796"
      },
      "source": [
        "len(corona_df[corona_df['abstract'] == '']) # procurando por espaços vazios nos abstracts"
      ],
      "execution_count": null,
      "outputs": [
        {
          "output_type": "execute_result",
          "data": {
            "text/plain": [
              "8051"
            ]
          },
          "metadata": {
            "tags": []
          },
          "execution_count": 27
        }
      ]
    },
    {
      "cell_type": "code",
      "metadata": {
        "id": "zzQRIZLklskU",
        "colab_type": "code",
        "colab": {}
      },
      "source": [
        "len(corona_df[corona_df['text'] == '']) # procurando por espaços vazios nos textos"
      ],
      "execution_count": null,
      "outputs": []
    },
    {
      "cell_type": "code",
      "metadata": {
        "id": "KpJJEEL2my02",
        "colab_type": "code",
        "colab": {}
      },
      "source": [
        "#corona_df = corona_df2  ## reafzendo tudo porra!!"
      ],
      "execution_count": null,
      "outputs": []
    },
    {
      "cell_type": "code",
      "metadata": {
        "id": "DhJo_65rl4xM",
        "colab_type": "code",
        "colab": {}
      },
      "source": [
        "corona_df = corona_df[corona_df['title'] != ''] ## apagando os artigos sem tíítulos"
      ],
      "execution_count": null,
      "outputs": []
    },
    {
      "cell_type": "code",
      "metadata": {
        "id": "aH8Qi-1kmUEO",
        "colab_type": "code",
        "colab": {}
      },
      "source": [
        "corona_df = corona_df[corona_df['abstract'] != ''] ## apagando os artigos sem abstract"
      ],
      "execution_count": null,
      "outputs": []
    },
    {
      "cell_type": "code",
      "metadata": {
        "id": "f4sP7V24mbMM",
        "colab_type": "code",
        "colab": {
          "base_uri": "https://localhost:8080/",
          "height": 35
        },
        "outputId": "7391191d-f1cf-43f2-e1a0-9671df48b343"
      },
      "source": [
        "corona_df.shape ## o que sobrou após a limpeza??"
      ],
      "execution_count": null,
      "outputs": [
        {
          "output_type": "execute_result",
          "data": {
            "text/plain": [
              "(20343, 4)"
            ]
          },
          "metadata": {
            "tags": []
          },
          "execution_count": 30
        }
      ]
    },
    {
      "cell_type": "markdown",
      "metadata": {
        "id": "PxNzJd_An8h9",
        "colab_type": "text"
      },
      "source": [
        "**REMOVENDO ARTIGOS DUPLICADOS**"
      ]
    },
    {
      "cell_type": "code",
      "metadata": {
        "id": "ZmfKkpEZn7zr",
        "colab_type": "code",
        "colab": {}
      },
      "source": [
        "corona_df.drop_duplicates(['abstract', 'text', 'title'], inplace=True)"
      ],
      "execution_count": null,
      "outputs": []
    },
    {
      "cell_type": "code",
      "metadata": {
        "id": "ncK0djuIoacK",
        "colab_type": "code",
        "colab": {
          "base_uri": "https://localhost:8080/",
          "height": 35
        },
        "outputId": "f70853f2-b731-48df-957e-8f5254916891"
      },
      "source": [
        "corona_df.shape  ## vendo quem mandou 2 ou mais vezes o mesmo artigo - ahaha"
      ],
      "execution_count": null,
      "outputs": [
        {
          "output_type": "execute_result",
          "data": {
            "text/plain": [
              "(20211, 4)"
            ]
          },
          "metadata": {
            "tags": []
          },
          "execution_count": 32
        }
      ]
    },
    {
      "cell_type": "markdown",
      "metadata": {
        "id": "vLXNZbbDqknD",
        "colab_type": "text"
      },
      "source": [
        "**BASE DE DADOS DE AMOSTRA**\n"
      ]
    },
    {
      "cell_type": "code",
      "metadata": {
        "id": "pYdixkoLqswc",
        "colab_type": "code",
        "colab": {}
      },
      "source": [
        "corona_df = corona_df.sample(n = 500, random_state=1)"
      ],
      "execution_count": null,
      "outputs": []
    },
    {
      "cell_type": "code",
      "metadata": {
        "id": "BEx2uan6q75n",
        "colab_type": "code",
        "colab": {
          "base_uri": "https://localhost:8080/",
          "height": 35
        },
        "outputId": "173cd62d-98e0-4154-c220-dca2d39f05b5"
      },
      "source": [
        "corona_df.shape"
      ],
      "execution_count": null,
      "outputs": [
        {
          "output_type": "execute_result",
          "data": {
            "text/plain": [
              "(500, 4)"
            ]
          },
          "metadata": {
            "tags": []
          },
          "execution_count": 34
        }
      ]
    },
    {
      "cell_type": "code",
      "metadata": {
        "id": "_kprMMp0rAau",
        "colab_type": "code",
        "colab": {}
      },
      "source": [
        "corona_df.head()"
      ],
      "execution_count": null,
      "outputs": []
    },
    {
      "cell_type": "code",
      "metadata": {
        "id": "iHYk88WIrK6V",
        "colab_type": "code",
        "colab": {}
      },
      "source": [
        "corona_df.tail()"
      ],
      "execution_count": null,
      "outputs": []
    },
    {
      "cell_type": "code",
      "metadata": {
        "id": "AAMrF_p157i4",
        "colab_type": "code",
        "colab": {}
      },
      "source": [
        "## Visual Text analisys\n",
        "sample_text = corona_df['text'][11015]\n",
        "sample_text"
      ],
      "execution_count": null,
      "outputs": []
    },
    {
      "cell_type": "code",
      "metadata": {
        "id": "Ct9zrMZ0-PYX",
        "colab_type": "code",
        "colab": {}
      },
      "source": [
        "!pip install https://s3-us-west-2.amazonaws.com/ai2-s2-scispacy/releases/v0.2.5/en_core_sci_md-0.2.5.tar.gz"
      ],
      "execution_count": null,
      "outputs": []
    },
    {
      "cell_type": "code",
      "metadata": {
        "id": "kgB_fMAubRjJ",
        "colab_type": "code",
        "colab": {}
      },
      "source": [
        "#!pip uninstall en_core_web_md\n",
        "#!pip uninstall en_core_sci_sm\n",
        "#!pip uninstall en_core_sci_md\n",
        "!python -m spacy download en_core_web_md\n",
        "!python -m spacy download en_core_sci_md\n",
        "!python -m spacy link en_core_web_md en --force\n",
        "#!pip install scispacy --force\n",
        "#!python -m spacy link en_core_sci_md en --force"
      ],
      "execution_count": null,
      "outputs": []
    },
    {
      "cell_type": "markdown",
      "metadata": {
        "id": "b9gphVNR6-jE",
        "colab_type": "text"
      },
      "source": [
        "**FUNÇÃO PARA PREPROCESSAMENTO**\n"
      ]
    },
    {
      "cell_type": "code",
      "metadata": {
        "id": "dHJtPzdeoCfu",
        "colab_type": "code",
        "colab": {}
      },
      "source": [
        "#nlp = spacy.load('en')\n",
        "#nlp = spacy.load('en_core_sci_md')\n",
        "#nlp = en_core_sci_md.load(disable=['tagger', 'parser', 'ner'])\n",
        "\n",
        "#nlp.max_length = 2000000"
      ],
      "execution_count": null,
      "outputs": []
    },
    {
      "cell_type": "code",
      "metadata": {
        "id": "cg3aw3sNwQGV",
        "colab_type": "code",
        "colab": {}
      },
      "source": [
        "#print('scispacy:', scispacy.__version__, \" - \", \"spacy:\", spacy.__version__)\n",
        "#!stopwnltk = nltk.corpus.stopwords.words(\"english\")"
      ],
      "execution_count": null,
      "outputs": []
    },
    {
      "cell_type": "code",
      "metadata": {
        "id": "R4mL92yMPeWj",
        "colab_type": "code",
        "colab": {}
      },
      "source": [
        "print(spacy.lang.en.stop_words.STOP_WORDS)"
      ],
      "execution_count": null,
      "outputs": []
    },
    {
      "cell_type": "code",
      "metadata": {
        "id": "b_CDeVfYTods",
        "colab_type": "code",
        "colab": {}
      },
      "source": [
        "sample_text"
      ],
      "execution_count": null,
      "outputs": []
    },
    {
      "cell_type": "code",
      "metadata": {
        "id": "rBWtd6TCIsMX",
        "colab_type": "code",
        "colab": {
          "base_uri": "https://localhost:8080/",
          "height": 35
        },
        "outputId": "817d6f26-6c17-4cce-a076-0dfec7af2982"
      },
      "source": [
        "len(sample_text)"
      ],
      "execution_count": null,
      "outputs": [
        {
          "output_type": "execute_result",
          "data": {
            "text/plain": [
              "26204"
            ]
          },
          "metadata": {
            "tags": []
          },
          "execution_count": 123
        }
      ]
    },
    {
      "cell_type": "code",
      "metadata": {
        "id": "RPdYkcZSP6BF",
        "colab_type": "code",
        "colab": {}
      },
      "source": [
        "\n",
        "# def spacy_tokenizer(sentence):\n",
        "#  sentence = sentence.lower() ## coloca tudo em minúsculo\n",
        "#  list = []   ## nlp(sentence)   nlp(sentence)\n",
        "#  list = [word.lemma_ for word in sentence if word.is_stop or\n",
        "#                                              word.like_num or\n",
        "#                                              word.is_punct or\n",
        "#                                              word.is_space)]                                              ]\n",
        "#  list = ' '.join([str(element) for element in list])\n",
        "#  return list"
      ],
      "execution_count": null,
      "outputs": []
    },
    {
      "cell_type": "code",
      "metadata": {
        "id": "zSQwjF4cMY8N",
        "colab_type": "code",
        "colab": {}
      },
      "source": [
        "# from spacy.lang.en import English\n",
        "\n",
        "# # Load English tokenizer, tagger, parser, NER and word vectors\n",
        "# nlp = English()\n",
        "\n",
        "# text = \"\"\"He determined to drop his litigation with the monastry, and relinguish his claims to the wood-cuting and \n",
        "# #fishery rihgts at once. He was the more ready to do this becuase the rights had become much less valuable, and he had \n",
        "# #indeed the vaguest idea where the wood and river in question were.\"\"\"\n",
        "\n",
        "# #  \"nlp\" Object is used to create documents with linguistic annotations.\n",
        "# my_doc = nlp(text)\n",
        "\n",
        "# # Create list of word tokens\n",
        "# token_list = []\n",
        "# for token in my_doc:\n",
        "#     token_list.append(token.text)\n",
        "\n",
        "# from spacy.lang.en.stop_words import STOP_WORDS\n",
        "\n",
        "# # Create list of word tokens after removing stopwords\n",
        "# filtered_sentence =[] \n",
        "\n",
        "# for word in token_list:\n",
        "#     lexeme = nlp.vocab[word]\n",
        "#     if lexeme.is_stop == False:\n",
        "#         filtered_sentence.append(word) \n",
        "# print(token_list)\n",
        "# print(filtered_sentence) "
      ],
      "execution_count": null,
      "outputs": []
    },
    {
      "cell_type": "code",
      "metadata": {
        "id": "hHcgndA3Xa-5",
        "colab_type": "code",
        "colab": {}
      },
      "source": [
        "from spacy.lang.en import English\n",
        "\n",
        "# Load English tokenizer, tagger, parser, NER and word vectors\n",
        "nlp = English()\n",
        "\n",
        "from spacy.lang.en.stop_words import STOP_WORDS"
      ],
      "execution_count": null,
      "outputs": []
    },
    {
      "cell_type": "code",
      "metadata": {
        "id": "nXq_faV8auz-",
        "colab_type": "code",
        "colab": {}
      },
      "source": [
        "text = \"\"\"He determined to drop his litigation with the monastry, and relinguish his claims to the wood-cuting and \n",
        "#fishery rihgts at once. He was the more ready to do this becuase the rights had become much less valuable, and he had \n",
        "#indeed the vaguest idea where the wood and river in question were.\"\"\"\n",
        "\n",
        "meu_doc = nlp(sample_text)\n",
        "\n",
        "token_list = []\n",
        "def sentence(textos):\n",
        "  for token in meu_doc:\n",
        "    token_list.append(token.text)\n",
        "  return token_list\n"
      ],
      "execution_count": null,
      "outputs": []
    },
    {
      "cell_type": "code",
      "metadata": {
        "id": "oYj_-0GgrzoP",
        "colab_type": "code",
        "colab": {}
      },
      "source": [
        ""
      ],
      "execution_count": null,
      "outputs": []
    },
    {
      "cell_type": "code",
      "metadata": {
        "id": "2yZ2gcRAZ4SY",
        "colab_type": "code",
        "colab": {}
      },
      "source": [
        "## junta as palavras numa mesma linha\n",
        "def join_setences(textos):\n",
        "  token_list = ' '.join([token_list for token_list in textos])\n",
        "  return token_list"
      ],
      "execution_count": null,
      "outputs": []
    },
    {
      "cell_type": "code",
      "metadata": {
        "id": "ZodcoeuvaBOp",
        "colab_type": "code",
        "colab": {}
      },
      "source": [
        "# Create list of word tokens after removing stopwords\n",
        "#filtered_sentence =[] \n",
        "\n",
        "def remove_stopwors(text):\n",
        "  \n"
      ],
      "execution_count": null,
      "outputs": []
    },
    {
      "cell_type": "code",
      "metadata": {
        "id": "tKI6O9n6eC7o",
        "colab_type": "code",
        "colab": {}
      },
      "source": [
        "result = join_setences(sentence(text))\n",
        "result\n",
        "#print(result2 )"
      ],
      "execution_count": null,
      "outputs": []
    },
    {
      "cell_type": "code",
      "metadata": {
        "id": "t93XD97PQmdV",
        "colab_type": "code",
        "colab": {}
      },
      "source": [
        "teste = sample_text\n",
        "result = spacy_tokenizer(teste)\n",
        "result"
      ],
      "execution_count": null,
      "outputs": []
    },
    {
      "cell_type": "code",
      "metadata": {
        "id": "1r6KtHm6JjI_",
        "colab_type": "code",
        "colab": {}
      },
      "source": [
        "corona_df['text'] = corona_df['text'].apply(spacy_tokenizer)"
      ],
      "execution_count": null,
      "outputs": []
    },
    {
      "cell_type": "code",
      "metadata": {
        "id": "mdr3tu5mKAgE",
        "colab_type": "code",
        "colab": {}
      },
      "source": [
        "print(sample_text)"
      ],
      "execution_count": null,
      "outputs": []
    },
    {
      "cell_type": "code",
      "metadata": {
        "id": "gOSbE-RLKWdx",
        "colab_type": "code",
        "colab": {}
      },
      "source": [
        "len(sample_text)"
      ],
      "execution_count": null,
      "outputs": []
    },
    {
      "cell_type": "code",
      "metadata": {
        "id": "EOM56kSfKa0-",
        "colab_type": "code",
        "colab": {}
      },
      "source": [
        "print(corona_df['text'][11015])"
      ],
      "execution_count": null,
      "outputs": []
    }
  ]
}